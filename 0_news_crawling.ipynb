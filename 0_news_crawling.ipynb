{
  "cells": [
    {
      "cell_type": "code",
      "execution_count": null,
      "metadata": {
        "id": "Wj_x8Y3e4xYW"
      },
      "outputs": [],
      "source": [
        "import pandas as pd\n",
        "import numpy as np\n",
        "\n",
        "from bs4 import BeautifulSoup\n",
        "import requests\n",
        "\n",
        "import time\n",
        "import re\n",
        "import selenium\n",
        "from selenium import webdriver as wd\n",
        "from selenium.webdriver import Chrome\n",
        "from selenium.webdriver.common.keys import Keys\n",
        "\n",
        "from tqdm import tqdm_notebook as tqdm"
      ]
    },
    {
      "cell_type": "markdown",
      "metadata": {
        "id": "Gt62KE3-4xYi"
      },
      "source": [
        "# 크롤링해야 할 정보\n",
        "\n",
        "- 기사 헤드라인\n",
        "- 기사 주소 url\n",
        "- 업로드 날짜, 시간\n",
        "- 신문사명\n",
        "- 본문 내용\n",
        "- 최대 4페이지 까지 (try구문 사용!)"
      ]
    },
    {
      "cell_type": "markdown",
      "metadata": {
        "id": "E-eEt8kx4xYk"
      },
      "source": [
        "## 2021 날짜 정보\n",
        "- 31: 1,3, 5, 7, 8, 10, 12\n",
        "- 30: 4, 6, 9, 11\n",
        "- 28: 2"
      ]
    },
    {
      "cell_type": "code",
      "execution_count": null,
      "metadata": {
        "id": "gBuSFG5d4xYo"
      },
      "outputs": [],
      "source": [
        "day=[str(i).zfill(2) for i in range(1,32)] #### User-Change ####"
      ]
    },
    {
      "cell_type": "code",
      "execution_count": null,
      "metadata": {
        "id": "Qk2Y8Hg74xYp",
        "outputId": "5a23f0e7-2762-4308-868e-dfa799aeb8fb"
      },
      "outputs": [
        {
          "data": {
            "text/plain": [
              "['01',\n",
              " '02',\n",
              " '03',\n",
              " '04',\n",
              " '05',\n",
              " '06',\n",
              " '07',\n",
              " '08',\n",
              " '09',\n",
              " '10',\n",
              " '11',\n",
              " '12',\n",
              " '13',\n",
              " '14',\n",
              " '15',\n",
              " '16',\n",
              " '17',\n",
              " '18',\n",
              " '19',\n",
              " '20',\n",
              " '21',\n",
              " '22',\n",
              " '23',\n",
              " '24',\n",
              " '25',\n",
              " '26',\n",
              " '27',\n",
              " '28',\n",
              " '29',\n",
              " '30',\n",
              " '31']"
            ]
          },
          "execution_count": 354,
          "metadata": {},
          "output_type": "execute_result"
        }
      ],
      "source": [
        "day"
      ]
    },
    {
      "cell_type": "code",
      "execution_count": null,
      "metadata": {
        "id": "nLCtEhVi4xYw"
      },
      "outputs": [],
      "source": [
        "#### User-Change ####\n",
        "url_info=\"https://news.naver.com/main/list.naver?mode=LS2D&mid=shm&sid2=310&sid1=101&date=202112\" #### User-Change ####\n",
        "url_lst=[]\n",
        "for d in day:\n",
        "    url=url_info+str(d)\n",
        "    for num in range(1,5):\n",
        "        url_lst.append(url+'&page='+str(num))"
      ]
    },
    {
      "cell_type": "code",
      "execution_count": null,
      "metadata": {
        "id": "-9WW51MJ4xY1",
        "outputId": "b6adae7b-3b47-449f-d9cc-439e8d193f42"
      },
      "outputs": [
        {
          "data": {
            "text/plain": [
              "['https://news.naver.com/main/list.naver?mode=LS2D&mid=shm&sid2=310&sid1=101&date=20211201&page=1',\n",
              " 'https://news.naver.com/main/list.naver?mode=LS2D&mid=shm&sid2=310&sid1=101&date=20211201&page=2',\n",
              " 'https://news.naver.com/main/list.naver?mode=LS2D&mid=shm&sid2=310&sid1=101&date=20211201&page=3',\n",
              " 'https://news.naver.com/main/list.naver?mode=LS2D&mid=shm&sid2=310&sid1=101&date=20211201&page=4',\n",
              " 'https://news.naver.com/main/list.naver?mode=LS2D&mid=shm&sid2=310&sid1=101&date=20211202&page=1',\n",
              " 'https://news.naver.com/main/list.naver?mode=LS2D&mid=shm&sid2=310&sid1=101&date=20211202&page=2',\n",
              " 'https://news.naver.com/main/list.naver?mode=LS2D&mid=shm&sid2=310&sid1=101&date=20211202&page=3',\n",
              " 'https://news.naver.com/main/list.naver?mode=LS2D&mid=shm&sid2=310&sid1=101&date=20211202&page=4',\n",
              " 'https://news.naver.com/main/list.naver?mode=LS2D&mid=shm&sid2=310&sid1=101&date=20211203&page=1',\n",
              " 'https://news.naver.com/main/list.naver?mode=LS2D&mid=shm&sid2=310&sid1=101&date=20211203&page=2',\n",
              " 'https://news.naver.com/main/list.naver?mode=LS2D&mid=shm&sid2=310&sid1=101&date=20211203&page=3',\n",
              " 'https://news.naver.com/main/list.naver?mode=LS2D&mid=shm&sid2=310&sid1=101&date=20211203&page=4',\n",
              " 'https://news.naver.com/main/list.naver?mode=LS2D&mid=shm&sid2=310&sid1=101&date=20211204&page=1',\n",
              " 'https://news.naver.com/main/list.naver?mode=LS2D&mid=shm&sid2=310&sid1=101&date=20211204&page=2',\n",
              " 'https://news.naver.com/main/list.naver?mode=LS2D&mid=shm&sid2=310&sid1=101&date=20211204&page=3',\n",
              " 'https://news.naver.com/main/list.naver?mode=LS2D&mid=shm&sid2=310&sid1=101&date=20211204&page=4',\n",
              " 'https://news.naver.com/main/list.naver?mode=LS2D&mid=shm&sid2=310&sid1=101&date=20211205&page=1',\n",
              " 'https://news.naver.com/main/list.naver?mode=LS2D&mid=shm&sid2=310&sid1=101&date=20211205&page=2',\n",
              " 'https://news.naver.com/main/list.naver?mode=LS2D&mid=shm&sid2=310&sid1=101&date=20211205&page=3',\n",
              " 'https://news.naver.com/main/list.naver?mode=LS2D&mid=shm&sid2=310&sid1=101&date=20211205&page=4',\n",
              " 'https://news.naver.com/main/list.naver?mode=LS2D&mid=shm&sid2=310&sid1=101&date=20211206&page=1',\n",
              " 'https://news.naver.com/main/list.naver?mode=LS2D&mid=shm&sid2=310&sid1=101&date=20211206&page=2',\n",
              " 'https://news.naver.com/main/list.naver?mode=LS2D&mid=shm&sid2=310&sid1=101&date=20211206&page=3',\n",
              " 'https://news.naver.com/main/list.naver?mode=LS2D&mid=shm&sid2=310&sid1=101&date=20211206&page=4',\n",
              " 'https://news.naver.com/main/list.naver?mode=LS2D&mid=shm&sid2=310&sid1=101&date=20211207&page=1',\n",
              " 'https://news.naver.com/main/list.naver?mode=LS2D&mid=shm&sid2=310&sid1=101&date=20211207&page=2',\n",
              " 'https://news.naver.com/main/list.naver?mode=LS2D&mid=shm&sid2=310&sid1=101&date=20211207&page=3',\n",
              " 'https://news.naver.com/main/list.naver?mode=LS2D&mid=shm&sid2=310&sid1=101&date=20211207&page=4',\n",
              " 'https://news.naver.com/main/list.naver?mode=LS2D&mid=shm&sid2=310&sid1=101&date=20211208&page=1',\n",
              " 'https://news.naver.com/main/list.naver?mode=LS2D&mid=shm&sid2=310&sid1=101&date=20211208&page=2',\n",
              " 'https://news.naver.com/main/list.naver?mode=LS2D&mid=shm&sid2=310&sid1=101&date=20211208&page=3',\n",
              " 'https://news.naver.com/main/list.naver?mode=LS2D&mid=shm&sid2=310&sid1=101&date=20211208&page=4',\n",
              " 'https://news.naver.com/main/list.naver?mode=LS2D&mid=shm&sid2=310&sid1=101&date=20211209&page=1',\n",
              " 'https://news.naver.com/main/list.naver?mode=LS2D&mid=shm&sid2=310&sid1=101&date=20211209&page=2',\n",
              " 'https://news.naver.com/main/list.naver?mode=LS2D&mid=shm&sid2=310&sid1=101&date=20211209&page=3',\n",
              " 'https://news.naver.com/main/list.naver?mode=LS2D&mid=shm&sid2=310&sid1=101&date=20211209&page=4',\n",
              " 'https://news.naver.com/main/list.naver?mode=LS2D&mid=shm&sid2=310&sid1=101&date=20211210&page=1',\n",
              " 'https://news.naver.com/main/list.naver?mode=LS2D&mid=shm&sid2=310&sid1=101&date=20211210&page=2',\n",
              " 'https://news.naver.com/main/list.naver?mode=LS2D&mid=shm&sid2=310&sid1=101&date=20211210&page=3',\n",
              " 'https://news.naver.com/main/list.naver?mode=LS2D&mid=shm&sid2=310&sid1=101&date=20211210&page=4',\n",
              " 'https://news.naver.com/main/list.naver?mode=LS2D&mid=shm&sid2=310&sid1=101&date=20211211&page=1',\n",
              " 'https://news.naver.com/main/list.naver?mode=LS2D&mid=shm&sid2=310&sid1=101&date=20211211&page=2',\n",
              " 'https://news.naver.com/main/list.naver?mode=LS2D&mid=shm&sid2=310&sid1=101&date=20211211&page=3',\n",
              " 'https://news.naver.com/main/list.naver?mode=LS2D&mid=shm&sid2=310&sid1=101&date=20211211&page=4',\n",
              " 'https://news.naver.com/main/list.naver?mode=LS2D&mid=shm&sid2=310&sid1=101&date=20211212&page=1',\n",
              " 'https://news.naver.com/main/list.naver?mode=LS2D&mid=shm&sid2=310&sid1=101&date=20211212&page=2',\n",
              " 'https://news.naver.com/main/list.naver?mode=LS2D&mid=shm&sid2=310&sid1=101&date=20211212&page=3',\n",
              " 'https://news.naver.com/main/list.naver?mode=LS2D&mid=shm&sid2=310&sid1=101&date=20211212&page=4',\n",
              " 'https://news.naver.com/main/list.naver?mode=LS2D&mid=shm&sid2=310&sid1=101&date=20211213&page=1',\n",
              " 'https://news.naver.com/main/list.naver?mode=LS2D&mid=shm&sid2=310&sid1=101&date=20211213&page=2',\n",
              " 'https://news.naver.com/main/list.naver?mode=LS2D&mid=shm&sid2=310&sid1=101&date=20211213&page=3',\n",
              " 'https://news.naver.com/main/list.naver?mode=LS2D&mid=shm&sid2=310&sid1=101&date=20211213&page=4',\n",
              " 'https://news.naver.com/main/list.naver?mode=LS2D&mid=shm&sid2=310&sid1=101&date=20211214&page=1',\n",
              " 'https://news.naver.com/main/list.naver?mode=LS2D&mid=shm&sid2=310&sid1=101&date=20211214&page=2',\n",
              " 'https://news.naver.com/main/list.naver?mode=LS2D&mid=shm&sid2=310&sid1=101&date=20211214&page=3',\n",
              " 'https://news.naver.com/main/list.naver?mode=LS2D&mid=shm&sid2=310&sid1=101&date=20211214&page=4',\n",
              " 'https://news.naver.com/main/list.naver?mode=LS2D&mid=shm&sid2=310&sid1=101&date=20211215&page=1',\n",
              " 'https://news.naver.com/main/list.naver?mode=LS2D&mid=shm&sid2=310&sid1=101&date=20211215&page=2',\n",
              " 'https://news.naver.com/main/list.naver?mode=LS2D&mid=shm&sid2=310&sid1=101&date=20211215&page=3',\n",
              " 'https://news.naver.com/main/list.naver?mode=LS2D&mid=shm&sid2=310&sid1=101&date=20211215&page=4',\n",
              " 'https://news.naver.com/main/list.naver?mode=LS2D&mid=shm&sid2=310&sid1=101&date=20211216&page=1',\n",
              " 'https://news.naver.com/main/list.naver?mode=LS2D&mid=shm&sid2=310&sid1=101&date=20211216&page=2',\n",
              " 'https://news.naver.com/main/list.naver?mode=LS2D&mid=shm&sid2=310&sid1=101&date=20211216&page=3',\n",
              " 'https://news.naver.com/main/list.naver?mode=LS2D&mid=shm&sid2=310&sid1=101&date=20211216&page=4',\n",
              " 'https://news.naver.com/main/list.naver?mode=LS2D&mid=shm&sid2=310&sid1=101&date=20211217&page=1',\n",
              " 'https://news.naver.com/main/list.naver?mode=LS2D&mid=shm&sid2=310&sid1=101&date=20211217&page=2',\n",
              " 'https://news.naver.com/main/list.naver?mode=LS2D&mid=shm&sid2=310&sid1=101&date=20211217&page=3',\n",
              " 'https://news.naver.com/main/list.naver?mode=LS2D&mid=shm&sid2=310&sid1=101&date=20211217&page=4',\n",
              " 'https://news.naver.com/main/list.naver?mode=LS2D&mid=shm&sid2=310&sid1=101&date=20211218&page=1',\n",
              " 'https://news.naver.com/main/list.naver?mode=LS2D&mid=shm&sid2=310&sid1=101&date=20211218&page=2',\n",
              " 'https://news.naver.com/main/list.naver?mode=LS2D&mid=shm&sid2=310&sid1=101&date=20211218&page=3',\n",
              " 'https://news.naver.com/main/list.naver?mode=LS2D&mid=shm&sid2=310&sid1=101&date=20211218&page=4',\n",
              " 'https://news.naver.com/main/list.naver?mode=LS2D&mid=shm&sid2=310&sid1=101&date=20211219&page=1',\n",
              " 'https://news.naver.com/main/list.naver?mode=LS2D&mid=shm&sid2=310&sid1=101&date=20211219&page=2',\n",
              " 'https://news.naver.com/main/list.naver?mode=LS2D&mid=shm&sid2=310&sid1=101&date=20211219&page=3',\n",
              " 'https://news.naver.com/main/list.naver?mode=LS2D&mid=shm&sid2=310&sid1=101&date=20211219&page=4',\n",
              " 'https://news.naver.com/main/list.naver?mode=LS2D&mid=shm&sid2=310&sid1=101&date=20211220&page=1',\n",
              " 'https://news.naver.com/main/list.naver?mode=LS2D&mid=shm&sid2=310&sid1=101&date=20211220&page=2',\n",
              " 'https://news.naver.com/main/list.naver?mode=LS2D&mid=shm&sid2=310&sid1=101&date=20211220&page=3',\n",
              " 'https://news.naver.com/main/list.naver?mode=LS2D&mid=shm&sid2=310&sid1=101&date=20211220&page=4',\n",
              " 'https://news.naver.com/main/list.naver?mode=LS2D&mid=shm&sid2=310&sid1=101&date=20211221&page=1',\n",
              " 'https://news.naver.com/main/list.naver?mode=LS2D&mid=shm&sid2=310&sid1=101&date=20211221&page=2',\n",
              " 'https://news.naver.com/main/list.naver?mode=LS2D&mid=shm&sid2=310&sid1=101&date=20211221&page=3',\n",
              " 'https://news.naver.com/main/list.naver?mode=LS2D&mid=shm&sid2=310&sid1=101&date=20211221&page=4',\n",
              " 'https://news.naver.com/main/list.naver?mode=LS2D&mid=shm&sid2=310&sid1=101&date=20211222&page=1',\n",
              " 'https://news.naver.com/main/list.naver?mode=LS2D&mid=shm&sid2=310&sid1=101&date=20211222&page=2',\n",
              " 'https://news.naver.com/main/list.naver?mode=LS2D&mid=shm&sid2=310&sid1=101&date=20211222&page=3',\n",
              " 'https://news.naver.com/main/list.naver?mode=LS2D&mid=shm&sid2=310&sid1=101&date=20211222&page=4',\n",
              " 'https://news.naver.com/main/list.naver?mode=LS2D&mid=shm&sid2=310&sid1=101&date=20211223&page=1',\n",
              " 'https://news.naver.com/main/list.naver?mode=LS2D&mid=shm&sid2=310&sid1=101&date=20211223&page=2',\n",
              " 'https://news.naver.com/main/list.naver?mode=LS2D&mid=shm&sid2=310&sid1=101&date=20211223&page=3',\n",
              " 'https://news.naver.com/main/list.naver?mode=LS2D&mid=shm&sid2=310&sid1=101&date=20211223&page=4',\n",
              " 'https://news.naver.com/main/list.naver?mode=LS2D&mid=shm&sid2=310&sid1=101&date=20211224&page=1',\n",
              " 'https://news.naver.com/main/list.naver?mode=LS2D&mid=shm&sid2=310&sid1=101&date=20211224&page=2',\n",
              " 'https://news.naver.com/main/list.naver?mode=LS2D&mid=shm&sid2=310&sid1=101&date=20211224&page=3',\n",
              " 'https://news.naver.com/main/list.naver?mode=LS2D&mid=shm&sid2=310&sid1=101&date=20211224&page=4',\n",
              " 'https://news.naver.com/main/list.naver?mode=LS2D&mid=shm&sid2=310&sid1=101&date=20211225&page=1',\n",
              " 'https://news.naver.com/main/list.naver?mode=LS2D&mid=shm&sid2=310&sid1=101&date=20211225&page=2',\n",
              " 'https://news.naver.com/main/list.naver?mode=LS2D&mid=shm&sid2=310&sid1=101&date=20211225&page=3',\n",
              " 'https://news.naver.com/main/list.naver?mode=LS2D&mid=shm&sid2=310&sid1=101&date=20211225&page=4',\n",
              " 'https://news.naver.com/main/list.naver?mode=LS2D&mid=shm&sid2=310&sid1=101&date=20211226&page=1',\n",
              " 'https://news.naver.com/main/list.naver?mode=LS2D&mid=shm&sid2=310&sid1=101&date=20211226&page=2',\n",
              " 'https://news.naver.com/main/list.naver?mode=LS2D&mid=shm&sid2=310&sid1=101&date=20211226&page=3',\n",
              " 'https://news.naver.com/main/list.naver?mode=LS2D&mid=shm&sid2=310&sid1=101&date=20211226&page=4',\n",
              " 'https://news.naver.com/main/list.naver?mode=LS2D&mid=shm&sid2=310&sid1=101&date=20211227&page=1',\n",
              " 'https://news.naver.com/main/list.naver?mode=LS2D&mid=shm&sid2=310&sid1=101&date=20211227&page=2',\n",
              " 'https://news.naver.com/main/list.naver?mode=LS2D&mid=shm&sid2=310&sid1=101&date=20211227&page=3',\n",
              " 'https://news.naver.com/main/list.naver?mode=LS2D&mid=shm&sid2=310&sid1=101&date=20211227&page=4',\n",
              " 'https://news.naver.com/main/list.naver?mode=LS2D&mid=shm&sid2=310&sid1=101&date=20211228&page=1',\n",
              " 'https://news.naver.com/main/list.naver?mode=LS2D&mid=shm&sid2=310&sid1=101&date=20211228&page=2',\n",
              " 'https://news.naver.com/main/list.naver?mode=LS2D&mid=shm&sid2=310&sid1=101&date=20211228&page=3',\n",
              " 'https://news.naver.com/main/list.naver?mode=LS2D&mid=shm&sid2=310&sid1=101&date=20211228&page=4',\n",
              " 'https://news.naver.com/main/list.naver?mode=LS2D&mid=shm&sid2=310&sid1=101&date=20211229&page=1',\n",
              " 'https://news.naver.com/main/list.naver?mode=LS2D&mid=shm&sid2=310&sid1=101&date=20211229&page=2',\n",
              " 'https://news.naver.com/main/list.naver?mode=LS2D&mid=shm&sid2=310&sid1=101&date=20211229&page=3',\n",
              " 'https://news.naver.com/main/list.naver?mode=LS2D&mid=shm&sid2=310&sid1=101&date=20211229&page=4',\n",
              " 'https://news.naver.com/main/list.naver?mode=LS2D&mid=shm&sid2=310&sid1=101&date=20211230&page=1',\n",
              " 'https://news.naver.com/main/list.naver?mode=LS2D&mid=shm&sid2=310&sid1=101&date=20211230&page=2',\n",
              " 'https://news.naver.com/main/list.naver?mode=LS2D&mid=shm&sid2=310&sid1=101&date=20211230&page=3',\n",
              " 'https://news.naver.com/main/list.naver?mode=LS2D&mid=shm&sid2=310&sid1=101&date=20211230&page=4',\n",
              " 'https://news.naver.com/main/list.naver?mode=LS2D&mid=shm&sid2=310&sid1=101&date=20211231&page=1',\n",
              " 'https://news.naver.com/main/list.naver?mode=LS2D&mid=shm&sid2=310&sid1=101&date=20211231&page=2',\n",
              " 'https://news.naver.com/main/list.naver?mode=LS2D&mid=shm&sid2=310&sid1=101&date=20211231&page=3',\n",
              " 'https://news.naver.com/main/list.naver?mode=LS2D&mid=shm&sid2=310&sid1=101&date=20211231&page=4']"
            ]
          },
          "execution_count": 356,
          "metadata": {},
          "output_type": "execute_result"
        }
      ],
      "source": [
        "url_lst\n",
        "# https://news.naver.com/main/list.naver?mode=LS2D&mid=shm&sid2=310&sid1=101&date=20210101&page=2"
      ]
    },
    {
      "cell_type": "code",
      "execution_count": null,
      "metadata": {
        "id": "am7TmkkZ4xY4",
        "outputId": "b0c31f67-f858-4f28-f3e6-15fbf39f3bf0"
      },
      "outputs": [
        {
          "data": {
            "text/plain": [
              "124"
            ]
          },
          "execution_count": 357,
          "metadata": {},
          "output_type": "execute_result"
        }
      ],
      "source": [
        "len(url_lst)"
      ]
    },
    {
      "cell_type": "code",
      "execution_count": null,
      "metadata": {
        "id": "_Dddftw64xY6",
        "outputId": "88f1c096-723f-4b76-85b7-0ee29eb69384"
      },
      "outputs": [
        {
          "name": "stdout",
          "output_type": "stream",
          "text": [
            "https://news.naver.com/main/list.naver?mode=LS2D&mid=shm&sid2=310&sid1=101&date=20211201&page=1\n",
            "https://news.naver.com/main/list.naver?mode=LS2D&mid=shm&sid2=310&sid1=101&date=20211201&page=2\n",
            "https://news.naver.com/main/list.naver?mode=LS2D&mid=shm&sid2=310&sid1=101&date=20211201&page=3\n",
            "Out of Range:  2\n",
            "Out of Range:  0\n",
            "https://news.naver.com/main/list.naver?mode=LS2D&mid=shm&sid2=310&sid1=101&date=20211201&page=4\n",
            "https://news.naver.com/main/list.naver?mode=LS2D&mid=shm&sid2=310&sid1=101&date=20211202&page=1\n",
            "https://news.naver.com/main/list.naver?mode=LS2D&mid=shm&sid2=310&sid1=101&date=20211202&page=2\n",
            "Out of Range:  7\n",
            "Out of Range:  9\n",
            "https://news.naver.com/main/list.naver?mode=LS2D&mid=shm&sid2=310&sid1=101&date=20211202&page=3\n",
            "Out of Range:  0\n",
            "https://news.naver.com/main/list.naver?mode=LS2D&mid=shm&sid2=310&sid1=101&date=20211202&page=4\n",
            "https://news.naver.com/main/list.naver?mode=LS2D&mid=shm&sid2=310&sid1=101&date=20211203&page=1\n",
            "https://news.naver.com/main/list.naver?mode=LS2D&mid=shm&sid2=310&sid1=101&date=20211203&page=2\n",
            "https://news.naver.com/main/list.naver?mode=LS2D&mid=shm&sid2=310&sid1=101&date=20211203&page=3\n",
            "https://news.naver.com/main/list.naver?mode=LS2D&mid=shm&sid2=310&sid1=101&date=20211203&page=4\n",
            "https://news.naver.com/main/list.naver?mode=LS2D&mid=shm&sid2=310&sid1=101&date=20211204&page=1\n",
            "https://news.naver.com/main/list.naver?mode=LS2D&mid=shm&sid2=310&sid1=101&date=20211204&page=2\n",
            "Out of Range:  1\n",
            "https://news.naver.com/main/list.naver?mode=LS2D&mid=shm&sid2=310&sid1=101&date=20211204&page=3\n",
            "https://news.naver.com/main/list.naver?mode=LS2D&mid=shm&sid2=310&sid1=101&date=20211204&page=4\n",
            "https://news.naver.com/main/list.naver?mode=LS2D&mid=shm&sid2=310&sid1=101&date=20211205&page=1\n",
            "Out of Range:  4\n",
            "Out of Range:  9\n",
            "https://news.naver.com/main/list.naver?mode=LS2D&mid=shm&sid2=310&sid1=101&date=20211205&page=2\n",
            "https://news.naver.com/main/list.naver?mode=LS2D&mid=shm&sid2=310&sid1=101&date=20211205&page=3\n",
            "https://news.naver.com/main/list.naver?mode=LS2D&mid=shm&sid2=310&sid1=101&date=20211205&page=4\n",
            "https://news.naver.com/main/list.naver?mode=LS2D&mid=shm&sid2=310&sid1=101&date=20211206&page=1\n",
            "Out of Range:  3\n",
            "https://news.naver.com/main/list.naver?mode=LS2D&mid=shm&sid2=310&sid1=101&date=20211206&page=2\n",
            "Out of Range:  7\n",
            "Out of Range:  8\n",
            "https://news.naver.com/main/list.naver?mode=LS2D&mid=shm&sid2=310&sid1=101&date=20211206&page=3\n",
            "https://news.naver.com/main/list.naver?mode=LS2D&mid=shm&sid2=310&sid1=101&date=20211206&page=4\n",
            "https://news.naver.com/main/list.naver?mode=LS2D&mid=shm&sid2=310&sid1=101&date=20211207&page=1\n",
            "https://news.naver.com/main/list.naver?mode=LS2D&mid=shm&sid2=310&sid1=101&date=20211207&page=2\n",
            "Out of Range:  2\n",
            "Out of Range:  4\n",
            "Out of Range:  5\n",
            "https://news.naver.com/main/list.naver?mode=LS2D&mid=shm&sid2=310&sid1=101&date=20211207&page=3\n",
            "Out of Range:  2\n",
            "https://news.naver.com/main/list.naver?mode=LS2D&mid=shm&sid2=310&sid1=101&date=20211207&page=4\n",
            "https://news.naver.com/main/list.naver?mode=LS2D&mid=shm&sid2=310&sid1=101&date=20211208&page=1\n",
            "https://news.naver.com/main/list.naver?mode=LS2D&mid=shm&sid2=310&sid1=101&date=20211208&page=2\n",
            "Out of Range:  8\n",
            "Out of Range:  3\n",
            "Out of Range:  4\n",
            "https://news.naver.com/main/list.naver?mode=LS2D&mid=shm&sid2=310&sid1=101&date=20211208&page=3\n",
            "https://news.naver.com/main/list.naver?mode=LS2D&mid=shm&sid2=310&sid1=101&date=20211208&page=4\n",
            "Out of Range:  9\n",
            "https://news.naver.com/main/list.naver?mode=LS2D&mid=shm&sid2=310&sid1=101&date=20211209&page=1\n",
            "Out of Range:  7\n",
            "https://news.naver.com/main/list.naver?mode=LS2D&mid=shm&sid2=310&sid1=101&date=20211209&page=2\n",
            "https://news.naver.com/main/list.naver?mode=LS2D&mid=shm&sid2=310&sid1=101&date=20211209&page=3\n",
            "https://news.naver.com/main/list.naver?mode=LS2D&mid=shm&sid2=310&sid1=101&date=20211209&page=4\n",
            "Out of Range:  3\n",
            "https://news.naver.com/main/list.naver?mode=LS2D&mid=shm&sid2=310&sid1=101&date=20211210&page=1\n",
            "https://news.naver.com/main/list.naver?mode=LS2D&mid=shm&sid2=310&sid1=101&date=20211210&page=2\n",
            "https://news.naver.com/main/list.naver?mode=LS2D&mid=shm&sid2=310&sid1=101&date=20211210&page=3\n",
            "Out of Range:  9\n",
            "https://news.naver.com/main/list.naver?mode=LS2D&mid=shm&sid2=310&sid1=101&date=20211210&page=4\n",
            "https://news.naver.com/main/list.naver?mode=LS2D&mid=shm&sid2=310&sid1=101&date=20211211&page=1\n",
            "https://news.naver.com/main/list.naver?mode=LS2D&mid=shm&sid2=310&sid1=101&date=20211211&page=2\n",
            "https://news.naver.com/main/list.naver?mode=LS2D&mid=shm&sid2=310&sid1=101&date=20211211&page=3\n",
            "Out of Range:  6\n",
            "https://news.naver.com/main/list.naver?mode=LS2D&mid=shm&sid2=310&sid1=101&date=20211211&page=4\n",
            "Out of Range:  6\n",
            "https://news.naver.com/main/list.naver?mode=LS2D&mid=shm&sid2=310&sid1=101&date=20211212&page=1\n",
            "Out of Range:  2\n",
            "Out of Range:  5\n",
            "https://news.naver.com/main/list.naver?mode=LS2D&mid=shm&sid2=310&sid1=101&date=20211212&page=2\n",
            "https://news.naver.com/main/list.naver?mode=LS2D&mid=shm&sid2=310&sid1=101&date=20211212&page=3\n",
            "https://news.naver.com/main/list.naver?mode=LS2D&mid=shm&sid2=310&sid1=101&date=20211212&page=4\n",
            "https://news.naver.com/main/list.naver?mode=LS2D&mid=shm&sid2=310&sid1=101&date=20211213&page=1\n",
            "https://news.naver.com/main/list.naver?mode=LS2D&mid=shm&sid2=310&sid1=101&date=20211213&page=2\n",
            "Out of Range:  7\n",
            "https://news.naver.com/main/list.naver?mode=LS2D&mid=shm&sid2=310&sid1=101&date=20211213&page=3\n",
            "Out of Range:  2\n",
            "https://news.naver.com/main/list.naver?mode=LS2D&mid=shm&sid2=310&sid1=101&date=20211213&page=4\n",
            "https://news.naver.com/main/list.naver?mode=LS2D&mid=shm&sid2=310&sid1=101&date=20211214&page=1\n",
            "Out of Range:  6\n",
            "https://news.naver.com/main/list.naver?mode=LS2D&mid=shm&sid2=310&sid1=101&date=20211214&page=2\n",
            "https://news.naver.com/main/list.naver?mode=LS2D&mid=shm&sid2=310&sid1=101&date=20211214&page=3\n",
            "https://news.naver.com/main/list.naver?mode=LS2D&mid=shm&sid2=310&sid1=101&date=20211214&page=4\n",
            "https://news.naver.com/main/list.naver?mode=LS2D&mid=shm&sid2=310&sid1=101&date=20211215&page=1\n",
            "https://news.naver.com/main/list.naver?mode=LS2D&mid=shm&sid2=310&sid1=101&date=20211215&page=2\n",
            "Out of Range:  0\n",
            "https://news.naver.com/main/list.naver?mode=LS2D&mid=shm&sid2=310&sid1=101&date=20211215&page=3\n",
            "https://news.naver.com/main/list.naver?mode=LS2D&mid=shm&sid2=310&sid1=101&date=20211215&page=4\n",
            "https://news.naver.com/main/list.naver?mode=LS2D&mid=shm&sid2=310&sid1=101&date=20211216&page=1\n",
            "https://news.naver.com/main/list.naver?mode=LS2D&mid=shm&sid2=310&sid1=101&date=20211216&page=2\n",
            "Out of Range:  8\n",
            "https://news.naver.com/main/list.naver?mode=LS2D&mid=shm&sid2=310&sid1=101&date=20211216&page=3\n",
            "Out of Range:  4\n",
            "https://news.naver.com/main/list.naver?mode=LS2D&mid=shm&sid2=310&sid1=101&date=20211216&page=4\n",
            "https://news.naver.com/main/list.naver?mode=LS2D&mid=shm&sid2=310&sid1=101&date=20211217&page=1\n",
            "Out of Range:  8\n",
            "Out of Range:  2\n",
            "https://news.naver.com/main/list.naver?mode=LS2D&mid=shm&sid2=310&sid1=101&date=20211217&page=2\n",
            "https://news.naver.com/main/list.naver?mode=LS2D&mid=shm&sid2=310&sid1=101&date=20211217&page=3\n",
            "Out of Range:  9\n",
            "https://news.naver.com/main/list.naver?mode=LS2D&mid=shm&sid2=310&sid1=101&date=20211217&page=4\n",
            "https://news.naver.com/main/list.naver?mode=LS2D&mid=shm&sid2=310&sid1=101&date=20211218&page=1\n",
            "https://news.naver.com/main/list.naver?mode=LS2D&mid=shm&sid2=310&sid1=101&date=20211218&page=2\n",
            "Out of Range:  0\n",
            "https://news.naver.com/main/list.naver?mode=LS2D&mid=shm&sid2=310&sid1=101&date=20211218&page=3\n",
            "https://news.naver.com/main/list.naver?mode=LS2D&mid=shm&sid2=310&sid1=101&date=20211218&page=4\n",
            "https://news.naver.com/main/list.naver?mode=LS2D&mid=shm&sid2=310&sid1=101&date=20211219&page=1\n",
            "Out of Range:  5\n",
            "https://news.naver.com/main/list.naver?mode=LS2D&mid=shm&sid2=310&sid1=101&date=20211219&page=2\n",
            "https://news.naver.com/main/list.naver?mode=LS2D&mid=shm&sid2=310&sid1=101&date=20211219&page=3\n",
            "Out of Range:  9\n",
            "https://news.naver.com/main/list.naver?mode=LS2D&mid=shm&sid2=310&sid1=101&date=20211219&page=4\n",
            "https://news.naver.com/main/list.naver?mode=LS2D&mid=shm&sid2=310&sid1=101&date=20211220&page=1\n",
            "Out of Range:  9\n",
            "https://news.naver.com/main/list.naver?mode=LS2D&mid=shm&sid2=310&sid1=101&date=20211220&page=2\n",
            "Out of Range:  7\n"
          ]
        },
        {
          "name": "stdout",
          "output_type": "stream",
          "text": [
            "https://news.naver.com/main/list.naver?mode=LS2D&mid=shm&sid2=310&sid1=101&date=20211220&page=3\n",
            "https://news.naver.com/main/list.naver?mode=LS2D&mid=shm&sid2=310&sid1=101&date=20211220&page=4\n",
            "Out of Range:  6\n",
            "https://news.naver.com/main/list.naver?mode=LS2D&mid=shm&sid2=310&sid1=101&date=20211221&page=1\n",
            "https://news.naver.com/main/list.naver?mode=LS2D&mid=shm&sid2=310&sid1=101&date=20211221&page=2\n",
            "Out of Range:  0\n",
            "Out of Range:  2\n",
            "Out of Range:  4\n",
            "https://news.naver.com/main/list.naver?mode=LS2D&mid=shm&sid2=310&sid1=101&date=20211221&page=3\n",
            "Out of Range:  4\n",
            "https://news.naver.com/main/list.naver?mode=LS2D&mid=shm&sid2=310&sid1=101&date=20211221&page=4\n",
            "Out of Range:  8\n",
            "https://news.naver.com/main/list.naver?mode=LS2D&mid=shm&sid2=310&sid1=101&date=20211222&page=1\n",
            "https://news.naver.com/main/list.naver?mode=LS2D&mid=shm&sid2=310&sid1=101&date=20211222&page=2\n",
            "https://news.naver.com/main/list.naver?mode=LS2D&mid=shm&sid2=310&sid1=101&date=20211222&page=3\n",
            "https://news.naver.com/main/list.naver?mode=LS2D&mid=shm&sid2=310&sid1=101&date=20211222&page=4\n",
            "https://news.naver.com/main/list.naver?mode=LS2D&mid=shm&sid2=310&sid1=101&date=20211223&page=1\n",
            "https://news.naver.com/main/list.naver?mode=LS2D&mid=shm&sid2=310&sid1=101&date=20211223&page=2\n",
            "Out of Range:  2\n",
            "Out of Range:  3\n",
            "Out of Range:  7\n",
            "https://news.naver.com/main/list.naver?mode=LS2D&mid=shm&sid2=310&sid1=101&date=20211223&page=3\n",
            "Out of Range:  6\n",
            "https://news.naver.com/main/list.naver?mode=LS2D&mid=shm&sid2=310&sid1=101&date=20211223&page=4\n",
            "Out of Range:  3\n",
            "Out of Range:  4\n",
            "Out of Range:  5\n",
            "https://news.naver.com/main/list.naver?mode=LS2D&mid=shm&sid2=310&sid1=101&date=20211224&page=1\n",
            "Out of Range:  7\n",
            "Out of Range:  3\n",
            "https://news.naver.com/main/list.naver?mode=LS2D&mid=shm&sid2=310&sid1=101&date=20211224&page=2\n",
            "https://news.naver.com/main/list.naver?mode=LS2D&mid=shm&sid2=310&sid1=101&date=20211224&page=3\n",
            "https://news.naver.com/main/list.naver?mode=LS2D&mid=shm&sid2=310&sid1=101&date=20211224&page=4\n",
            "https://news.naver.com/main/list.naver?mode=LS2D&mid=shm&sid2=310&sid1=101&date=20211225&page=1\n",
            "https://news.naver.com/main/list.naver?mode=LS2D&mid=shm&sid2=310&sid1=101&date=20211225&page=2\n",
            "Out of Range:  1\n",
            "https://news.naver.com/main/list.naver?mode=LS2D&mid=shm&sid2=310&sid1=101&date=20211225&page=3\n",
            "https://news.naver.com/main/list.naver?mode=LS2D&mid=shm&sid2=310&sid1=101&date=20211225&page=4\n",
            "https://news.naver.com/main/list.naver?mode=LS2D&mid=shm&sid2=310&sid1=101&date=20211226&page=1\n",
            "Out of Range:  3\n",
            "https://news.naver.com/main/list.naver?mode=LS2D&mid=shm&sid2=310&sid1=101&date=20211226&page=2\n",
            "Out of Range:  0\n",
            "Out of Range:  1\n",
            "https://news.naver.com/main/list.naver?mode=LS2D&mid=shm&sid2=310&sid1=101&date=20211226&page=3\n",
            "https://news.naver.com/main/list.naver?mode=LS2D&mid=shm&sid2=310&sid1=101&date=20211226&page=4\n",
            "https://news.naver.com/main/list.naver?mode=LS2D&mid=shm&sid2=310&sid1=101&date=20211227&page=1\n",
            "https://news.naver.com/main/list.naver?mode=LS2D&mid=shm&sid2=310&sid1=101&date=20211227&page=2\n",
            "https://news.naver.com/main/list.naver?mode=LS2D&mid=shm&sid2=310&sid1=101&date=20211227&page=3\n",
            "Out of Range:  3\n",
            "Out of Range:  4\n",
            "https://news.naver.com/main/list.naver?mode=LS2D&mid=shm&sid2=310&sid1=101&date=20211227&page=4\n",
            "https://news.naver.com/main/list.naver?mode=LS2D&mid=shm&sid2=310&sid1=101&date=20211228&page=1\n",
            "https://news.naver.com/main/list.naver?mode=LS2D&mid=shm&sid2=310&sid1=101&date=20211228&page=2\n",
            "https://news.naver.com/main/list.naver?mode=LS2D&mid=shm&sid2=310&sid1=101&date=20211228&page=3\n",
            "https://news.naver.com/main/list.naver?mode=LS2D&mid=shm&sid2=310&sid1=101&date=20211228&page=4\n",
            "Out of Range:  2\n",
            "https://news.naver.com/main/list.naver?mode=LS2D&mid=shm&sid2=310&sid1=101&date=20211229&page=1\n",
            "Out of Range:  6\n",
            "Out of Range:  7\n",
            "https://news.naver.com/main/list.naver?mode=LS2D&mid=shm&sid2=310&sid1=101&date=20211229&page=2\n",
            "Out of Range:  1\n",
            "https://news.naver.com/main/list.naver?mode=LS2D&mid=shm&sid2=310&sid1=101&date=20211229&page=3\n",
            "Out of Range:  3\n",
            "Out of Range:  5\n",
            "Out of Range:  5\n",
            "https://news.naver.com/main/list.naver?mode=LS2D&mid=shm&sid2=310&sid1=101&date=20211229&page=4\n",
            "https://news.naver.com/main/list.naver?mode=LS2D&mid=shm&sid2=310&sid1=101&date=20211230&page=1\n",
            "Out of Range:  1\n",
            "Out of Range:  4\n",
            "Out of Range:  7\n",
            "https://news.naver.com/main/list.naver?mode=LS2D&mid=shm&sid2=310&sid1=101&date=20211230&page=2\n",
            "Out of Range:  4\n",
            "https://news.naver.com/main/list.naver?mode=LS2D&mid=shm&sid2=310&sid1=101&date=20211230&page=3\n",
            "Out of Range:  1\n",
            "https://news.naver.com/main/list.naver?mode=LS2D&mid=shm&sid2=310&sid1=101&date=20211230&page=4\n",
            "https://news.naver.com/main/list.naver?mode=LS2D&mid=shm&sid2=310&sid1=101&date=20211231&page=1\n",
            "https://news.naver.com/main/list.naver?mode=LS2D&mid=shm&sid2=310&sid1=101&date=20211231&page=2\n",
            "Out of Range:  0\n",
            "https://news.naver.com/main/list.naver?mode=LS2D&mid=shm&sid2=310&sid1=101&date=20211231&page=3\n",
            "https://news.naver.com/main/list.naver?mode=LS2D&mid=shm&sid2=310&sid1=101&date=20211231&page=4\n"
          ]
        }
      ],
      "source": [
        "### soup으로 다음과 같은 정보부터 가져오기\n",
        "# 기사 헤드라인\n",
        "# 기사 주소 url\n",
        "# 업로드 날짜, 시간\n",
        "# 신문사명\n",
        "\n",
        "\n",
        "\n",
        "title=[]\n",
        "ar_url=[]\n",
        "day=[]\n",
        "time_=[]\n",
        "com=[]\n",
        "\n",
        "\n",
        "for u in url_lst:\n",
        "    print(u)\n",
        "    page=requests.get(u,headers={'User-Agent':'Mozilla/5.0'})\n",
        "    soup = BeautifulSoup(page.content, \"html.parser\")\n",
        "\n",
        "    #### 상위 10개 기사 ####\n",
        "    top10=soup.select('#main_content > div.list_body.newsflash_body > ul.type06_headline > li')\n",
        "    for i in range(0,len(top10)):\n",
        "        try:\n",
        "            # title\n",
        "            title.append(top10[i].find_all('a')[1].text.replace('\\n','').replace('\\t',''))\n",
        "            # ar_url\n",
        "            ar_url.append(top10[i].find_all('a')[1]['href'])\n",
        "            # day\n",
        "            day.append(top10[i].find_all('span','date')[0].text.split('. ')[0])\n",
        "            #time\n",
        "            time_.append(top10[i].find_all('span','date')[0].text.split('. ')[1])\n",
        "            #com\n",
        "            com.append(top10[i].find_all('span','writing')[0].text)\n",
        "        except:\n",
        "            print('Out of Range: ',i)\n",
        "            # title\n",
        "            title.append(top10[i].find_all('a')[0].text.replace('\\n','').replace('\\t',''))\n",
        "            # ar_url\n",
        "            ar_url.append(top10[i].find_all('a')[0]['href'])\n",
        "            # day\n",
        "            day.append(top10[i].find_all('span','date')[0].text.split('. ')[0])\n",
        "            # time\n",
        "            time_.append(top10[i].find_all('span','date')[0].text.split('. ')[1])\n",
        "            # com\n",
        "            com.append(top10[i].find_all('span','writing')[0].text)  \n",
        "\n",
        "    #### 하위 10개 기사 ####\n",
        "    top20=soup.select('#main_content > div.list_body.newsflash_body > ul.type06 > li')\n",
        "    for i in range(0,len(top20)):\n",
        "        try:\n",
        "            # title\n",
        "            title.append(top20[i].find_all('a')[1].text.replace('\\n','').replace('\\t',''))\n",
        "            # ar_url\n",
        "            ar_url.append(top20[i].find_all('a')[1]['href'])\n",
        "            # day\n",
        "            day.append(top20[i].find_all('span','date')[0].text.split('. ')[0])\n",
        "            #time\n",
        "            time_.append(top20[i].find_all('span','date')[0].text.split('. ')[1])\n",
        "            #com\n",
        "            com.append(top20[i].find_all('span','writing')[0].text)\n",
        "\n",
        "        except:\n",
        "            print('Out of Range: ',i)\n",
        "            # title\n",
        "            title.append(top20[i].find_all('a')[0].text.replace('\\n','').replace('\\t',''))\n",
        "            # ar_url\n",
        "            ar_url.append(top20[i].find_all('a')[0]['href'])\n",
        "            # day\n",
        "            day.append(top20[i].find_all('span','date')[0].text.split('. ')[0])\n",
        "            # time\n",
        "            time_.append(top20[i].find_all('span','date')[0].text.split('. ')[1])\n",
        "            #com\n",
        "            com.append(top20[i].find_all('span','writing')[0].text)\n",
        "            \n",
        "\n",
        "            "
      ]
    },
    {
      "cell_type": "code",
      "execution_count": null,
      "metadata": {
        "id": "P__b0ZSl4xZA",
        "outputId": "3d8bfcc8-c349-4cbc-ff1a-ffb29923c581"
      },
      "outputs": [
        {
          "name": "stdout",
          "output_type": "stream",
          "text": [
            "2419\n",
            "2419\n",
            "2419\n",
            "2419\n",
            "2419\n"
          ]
        }
      ],
      "source": [
        "print(len(title))\n",
        "print(len(ar_url))\n",
        "print(len(day))\n",
        "print(len(time_))\n",
        "print(len(com))"
      ]
    },
    {
      "cell_type": "code",
      "execution_count": null,
      "metadata": {
        "id": "3D2BpDvJ4xZD",
        "outputId": "3f6cd0fc-04b7-41a7-f147-9d1b102278bf"
      },
      "outputs": [
        {
          "data": {
            "text/html": [
              "<div>\n",
              "<style scoped>\n",
              "    .dataframe tbody tr th:only-of-type {\n",
              "        vertical-align: middle;\n",
              "    }\n",
              "\n",
              "    .dataframe tbody tr th {\n",
              "        vertical-align: top;\n",
              "    }\n",
              "\n",
              "    .dataframe thead th {\n",
              "        text-align: right;\n",
              "    }\n",
              "</style>\n",
              "<table border=\"1\" class=\"dataframe\">\n",
              "  <thead>\n",
              "    <tr style=\"text-align: right;\">\n",
              "      <th></th>\n",
              "      <th>title</th>\n",
              "      <th>url</th>\n",
              "      <th>day</th>\n",
              "      <th>time</th>\n",
              "      <th>company</th>\n",
              "    </tr>\n",
              "  </thead>\n",
              "  <tbody>\n",
              "    <tr>\n",
              "      <td>0</td>\n",
              "      <td>해외 다녀온 한국인 5명 오미크론 감염…지역사회에 퍼졌다(종합2보)</td>\n",
              "      <td>https://n.news.naver.com/mnews/article/421/000...</td>\n",
              "      <td>2021.12.01</td>\n",
              "      <td>오후 11:50</td>\n",
              "      <td>뉴스1</td>\n",
              "    </tr>\n",
              "    <tr>\n",
              "      <td>1</td>\n",
              "      <td>[포토] 영등포구 자원봉사 유공자 표창</td>\n",
              "      <td>https://n.news.naver.com/mnews/article/018/000...</td>\n",
              "      <td>2021.12.01</td>\n",
              "      <td>오후 11:04</td>\n",
              "      <td>이데일리</td>\n",
              "    </tr>\n",
              "    <tr>\n",
              "      <td>2</td>\n",
              "      <td>국내도 오미크론 뚫렸다…나이지리아 방문 부부 등 5명 감염(종합)</td>\n",
              "      <td>https://n.news.naver.com/mnews/article/421/000...</td>\n",
              "      <td>2021.12.01</td>\n",
              "      <td>오후 10:44</td>\n",
              "      <td>뉴스1</td>\n",
              "    </tr>\n",
              "    <tr>\n",
              "      <td>3</td>\n",
              "      <td>\"샤넬이 만들었대\"…이 추운 날 3시간 만에 수백명 몰렸다</td>\n",
              "      <td>https://n.news.naver.com/mnews/article/015/000...</td>\n",
              "      <td>2021.12.01</td>\n",
              "      <td>오후 10:14</td>\n",
              "      <td>한국경제</td>\n",
              "    </tr>\n",
              "    <tr>\n",
              "      <td>4</td>\n",
              "      <td>\"겨울아 어서와 신나게 놀아줄게\"…올 겨울 든든한 키즈 패션</td>\n",
              "      <td>https://n.news.naver.com/mnews/article/009/000...</td>\n",
              "      <td>2021.12.01</td>\n",
              "      <td>오후 10:05</td>\n",
              "      <td>매일경제</td>\n",
              "    </tr>\n",
              "    <tr>\n",
              "      <td>...</td>\n",
              "      <td>...</td>\n",
              "      <td>...</td>\n",
              "      <td>...</td>\n",
              "      <td>...</td>\n",
              "      <td>...</td>\n",
              "    </tr>\n",
              "    <tr>\n",
              "      <td>2414</td>\n",
              "      <td>한촌설렁탕, '이연에프엔씨' 얼큰설렁탕 간편식 1000팩 기부</td>\n",
              "      <td>https://n.news.naver.com/mnews/article/417/000...</td>\n",
              "      <td>2021.12.31</td>\n",
              "      <td>오후 2:03</td>\n",
              "      <td>머니S</td>\n",
              "    </tr>\n",
              "    <tr>\n",
              "      <td>2415</td>\n",
              "      <td>유재석도 \"혹시 당근?\" 외치더니 '대박'…거래 폭발했다</td>\n",
              "      <td>https://n.news.naver.com/mnews/article/015/000...</td>\n",
              "      <td>2021.12.31</td>\n",
              "      <td>오후 1:54</td>\n",
              "      <td>한국경제</td>\n",
              "    </tr>\n",
              "    <tr>\n",
              "      <td>2416</td>\n",
              "      <td>맛x영양…동경, 국산 단호박 떡·죽 선봬</td>\n",
              "      <td>https://n.news.naver.com/mnews/article/003/001...</td>\n",
              "      <td>2021.12.31</td>\n",
              "      <td>오후 1:45</td>\n",
              "      <td>뉴시스</td>\n",
              "    </tr>\n",
              "    <tr>\n",
              "      <td>2417</td>\n",
              "      <td>소비자물가지수 2.5% 상승…10년만에 최고치</td>\n",
              "      <td>https://n.news.naver.com/mnews/article/001/001...</td>\n",
              "      <td>2021.12.31</td>\n",
              "      <td>오후 1:44</td>\n",
              "      <td>연합뉴스</td>\n",
              "    </tr>\n",
              "    <tr>\n",
              "      <td>2418</td>\n",
              "      <td>작년대비 물가 2.5% 상승…10년만에 최고치</td>\n",
              "      <td>https://n.news.naver.com/mnews/article/001/001...</td>\n",
              "      <td>2021.12.31</td>\n",
              "      <td>오후 1:44</td>\n",
              "      <td>연합뉴스</td>\n",
              "    </tr>\n",
              "  </tbody>\n",
              "</table>\n",
              "<p>2419 rows × 5 columns</p>\n",
              "</div>"
            ],
            "text/plain": [
              "                                       title  \\\n",
              "0      해외 다녀온 한국인 5명 오미크론 감염…지역사회에 퍼졌다(종합2보)   \n",
              "1                      [포토] 영등포구 자원봉사 유공자 표창   \n",
              "2       국내도 오미크론 뚫렸다…나이지리아 방문 부부 등 5명 감염(종합)   \n",
              "3           \"샤넬이 만들었대\"…이 추운 날 3시간 만에 수백명 몰렸다   \n",
              "4          \"겨울아 어서와 신나게 놀아줄게\"…올 겨울 든든한 키즈 패션   \n",
              "...                                      ...   \n",
              "2414      한촌설렁탕, '이연에프엔씨' 얼큰설렁탕 간편식 1000팩 기부   \n",
              "2415         유재석도 \"혹시 당근?\" 외치더니 '대박'…거래 폭발했다   \n",
              "2416                  맛x영양…동경, 국산 단호박 떡·죽 선봬   \n",
              "2417               소비자물가지수 2.5% 상승…10년만에 최고치   \n",
              "2418               작년대비 물가 2.5% 상승…10년만에 최고치   \n",
              "\n",
              "                                                    url         day      time  \\\n",
              "0     https://n.news.naver.com/mnews/article/421/000...  2021.12.01  오후 11:50   \n",
              "1     https://n.news.naver.com/mnews/article/018/000...  2021.12.01  오후 11:04   \n",
              "2     https://n.news.naver.com/mnews/article/421/000...  2021.12.01  오후 10:44   \n",
              "3     https://n.news.naver.com/mnews/article/015/000...  2021.12.01  오후 10:14   \n",
              "4     https://n.news.naver.com/mnews/article/009/000...  2021.12.01  오후 10:05   \n",
              "...                                                 ...         ...       ...   \n",
              "2414  https://n.news.naver.com/mnews/article/417/000...  2021.12.31   오후 2:03   \n",
              "2415  https://n.news.naver.com/mnews/article/015/000...  2021.12.31   오후 1:54   \n",
              "2416  https://n.news.naver.com/mnews/article/003/001...  2021.12.31   오후 1:45   \n",
              "2417  https://n.news.naver.com/mnews/article/001/001...  2021.12.31   오후 1:44   \n",
              "2418  https://n.news.naver.com/mnews/article/001/001...  2021.12.31   오후 1:44   \n",
              "\n",
              "     company  \n",
              "0        뉴스1  \n",
              "1       이데일리  \n",
              "2        뉴스1  \n",
              "3       한국경제  \n",
              "4       매일경제  \n",
              "...      ...  \n",
              "2414     머니S  \n",
              "2415    한국경제  \n",
              "2416     뉴시스  \n",
              "2417    연합뉴스  \n",
              "2418    연합뉴스  \n",
              "\n",
              "[2419 rows x 5 columns]"
            ]
          },
          "execution_count": 360,
          "metadata": {},
          "output_type": "execute_result"
        }
      ],
      "source": [
        "month1=pd.DataFrame({'title':title,'url':ar_url,'day':day,'time':time_,'company':com})\n",
        "month1"
      ]
    },
    {
      "cell_type": "code",
      "execution_count": null,
      "metadata": {
        "id": "0TjF-5_Y4xZG",
        "outputId": "87a45766-093c-4270-ff9d-59c1c98a61d6"
      },
      "outputs": [
        {
          "data": {
            "text/plain": [
              "title      0\n",
              "url        0\n",
              "day        0\n",
              "time       0\n",
              "company    0\n",
              "dtype: int64"
            ]
          },
          "execution_count": 361,
          "metadata": {},
          "output_type": "execute_result"
        }
      ],
      "source": [
        "month1.isna().sum()"
      ]
    },
    {
      "cell_type": "markdown",
      "metadata": {
        "id": "cAVGvtz94xZH"
      },
      "source": [
        "# contents"
      ]
    },
    {
      "cell_type": "code",
      "execution_count": null,
      "metadata": {
        "colab": {
          "referenced_widgets": [
            "60a59325ecd14e65a1c0920ac287c4bf"
          ]
        },
        "id": "sMC_-2XJ4xZI",
        "outputId": "fb31ad65-03fc-4649-949f-ae7c457b7467"
      },
      "outputs": [
        {
          "data": {
            "application/vnd.jupyter.widget-view+json": {
              "model_id": "60a59325ecd14e65a1c0920ac287c4bf",
              "version_major": 2,
              "version_minor": 0
            },
            "text/plain": [
              "HBox(children=(IntProgress(value=0, description='tqdm', max=2419, style=ProgressStyle(description_width='initi…"
            ]
          },
          "metadata": {},
          "output_type": "display_data"
        },
        {
          "name": "stdout",
          "output_type": "stream",
          "text": [
            "https://n.news.naver.com/mnews/article/001/0012820865?sid=101\n",
            "https://n.news.naver.com/mnews/article/001/0012828410?sid=101\n",
            "https://n.news.naver.com/mnews/article/001/0012810730?sid=101\n",
            "\n"
          ]
        }
      ],
      "source": [
        "contents=[]\n",
        "\n",
        "for u in tqdm(list(month1['url']),desc='tqdm'):\n",
        "    #print(u)\n",
        "    page=requests.get(u,headers={'User-Agent':'Mozilla/5.0'})\n",
        "    soup = BeautifulSoup(page.content, \"html.parser\")\n",
        "    try:\n",
        "        contents.append(soup.find('div',{'class':'newsct_article _article_body'}).text)\n",
        "    except:\n",
        "        print(u)\n",
        "        contents.append(np.nan)"
      ]
    },
    {
      "cell_type": "code",
      "execution_count": null,
      "metadata": {
        "id": "Mt4bWYg44xZJ",
        "outputId": "61a4aa7a-39ef-4694-c279-12091b9dbc48"
      },
      "outputs": [
        {
          "name": "stdout",
          "output_type": "stream",
          "text": [
            "2419\n",
            "2419\n",
            "2419\n",
            "2419\n",
            "2419\n",
            "2419\n"
          ]
        }
      ],
      "source": [
        "print(len(title))\n",
        "print(len(ar_url))\n",
        "print(len(day))\n",
        "print(len(time_))\n",
        "print(len(com))\n",
        "print(len(contents))"
      ]
    },
    {
      "cell_type": "code",
      "execution_count": null,
      "metadata": {
        "id": "trEHneLE4xZN"
      },
      "outputs": [],
      "source": [
        "month1['contents']=contents"
      ]
    },
    {
      "cell_type": "code",
      "execution_count": null,
      "metadata": {
        "id": "No8DdMPt4xZO",
        "outputId": "cc054019-776d-4206-c760-10a3e2439ba1"
      },
      "outputs": [
        {
          "data": {
            "text/html": [
              "<div>\n",
              "<style scoped>\n",
              "    .dataframe tbody tr th:only-of-type {\n",
              "        vertical-align: middle;\n",
              "    }\n",
              "\n",
              "    .dataframe tbody tr th {\n",
              "        vertical-align: top;\n",
              "    }\n",
              "\n",
              "    .dataframe thead th {\n",
              "        text-align: right;\n",
              "    }\n",
              "</style>\n",
              "<table border=\"1\" class=\"dataframe\">\n",
              "  <thead>\n",
              "    <tr style=\"text-align: right;\">\n",
              "      <th></th>\n",
              "      <th>title</th>\n",
              "      <th>url</th>\n",
              "      <th>day</th>\n",
              "      <th>time</th>\n",
              "      <th>company</th>\n",
              "      <th>contents</th>\n",
              "    </tr>\n",
              "  </thead>\n",
              "  <tbody>\n",
              "    <tr>\n",
              "      <td>0</td>\n",
              "      <td>해외 다녀온 한국인 5명 오미크론 감염…지역사회에 퍼졌다(종합2보)</td>\n",
              "      <td>https://n.news.naver.com/mnews/article/421/000...</td>\n",
              "      <td>2021.12.01</td>\n",
              "      <td>오후 11:50</td>\n",
              "      <td>뉴스1</td>\n",
              "      <td>\\n\\n나이지리아 방문 부부 2명 외 접촉자 3명도 오미크론 변이 검출3일부터 백신...</td>\n",
              "    </tr>\n",
              "    <tr>\n",
              "      <td>1</td>\n",
              "      <td>[포토] 영등포구 자원봉사 유공자 표창</td>\n",
              "      <td>https://n.news.naver.com/mnews/article/018/000...</td>\n",
              "      <td>2021.12.01</td>\n",
              "      <td>오후 11:04</td>\n",
              "      <td>이데일리</td>\n",
              "      <td>\\n\\n\\n\\n\\n\\n[이데일리 김태형 기자] 채현일(오른쪽 다섯번째) 영등포구청장...</td>\n",
              "    </tr>\n",
              "    <tr>\n",
              "      <td>2</td>\n",
              "      <td>국내도 오미크론 뚫렸다…나이지리아 방문 부부 등 5명 감염(종합)</td>\n",
              "      <td>https://n.news.naver.com/mnews/article/421/000...</td>\n",
              "      <td>2021.12.01</td>\n",
              "      <td>오후 10:44</td>\n",
              "      <td>뉴스1</td>\n",
              "      <td>\\n\\n부부 자녀·지인 가족 등 추가 분석 중…해외입국 확진자 중 2명 추가오미크론...</td>\n",
              "    </tr>\n",
              "    <tr>\n",
              "      <td>3</td>\n",
              "      <td>\"샤넬이 만들었대\"…이 추운 날 3시간 만에 수백명 몰렸다</td>\n",
              "      <td>https://n.news.naver.com/mnews/article/015/000...</td>\n",
              "      <td>2021.12.01</td>\n",
              "      <td>오후 10:14</td>\n",
              "      <td>한국경제</td>\n",
              "      <td>\\n\\n유통가 겨울 스포츠 '스케이트 마케팅' 롯데백화점, 샤넬과 아이스링크 개장…...</td>\n",
              "    </tr>\n",
              "    <tr>\n",
              "      <td>4</td>\n",
              "      <td>\"겨울아 어서와 신나게 놀아줄게\"…올 겨울 든든한 키즈 패션</td>\n",
              "      <td>https://n.news.naver.com/mnews/article/009/000...</td>\n",
              "      <td>2021.12.01</td>\n",
              "      <td>오후 10:05</td>\n",
              "      <td>매일경제</td>\n",
              "      <td>\\n\\n올겨울 든든한 키즈 패션화사한 컬러에 스타일리시한다운재킷으로 보온·방한 효과...</td>\n",
              "    </tr>\n",
              "    <tr>\n",
              "      <td>...</td>\n",
              "      <td>...</td>\n",
              "      <td>...</td>\n",
              "      <td>...</td>\n",
              "      <td>...</td>\n",
              "      <td>...</td>\n",
              "      <td>...</td>\n",
              "    </tr>\n",
              "    <tr>\n",
              "      <td>2414</td>\n",
              "      <td>한촌설렁탕, '이연에프엔씨' 얼큰설렁탕 간편식 1000팩 기부</td>\n",
              "      <td>https://n.news.naver.com/mnews/article/417/000...</td>\n",
              "      <td>2021.12.31</td>\n",
              "      <td>오후 2:03</td>\n",
              "      <td>머니S</td>\n",
              "      <td>\\n\\n\\t\\t\\t한촌설렁탕, 육수당 등 프랜차이즈와 간편식 사업을 진행하고 있는 ...</td>\n",
              "    </tr>\n",
              "    <tr>\n",
              "      <td>2415</td>\n",
              "      <td>유재석도 \"혹시 당근?\" 외치더니 '대박'…거래 폭발했다</td>\n",
              "      <td>https://n.news.naver.com/mnews/article/015/000...</td>\n",
              "      <td>2021.12.31</td>\n",
              "      <td>오후 1:54</td>\n",
              "      <td>한국경제</td>\n",
              "      <td>\\n\\n당근마켓 중고 거래 게시글 전년比 30% 증가5240만 그루 소나무 심은 효...</td>\n",
              "    </tr>\n",
              "    <tr>\n",
              "      <td>2416</td>\n",
              "      <td>맛x영양…동경, 국산 단호박 떡·죽 선봬</td>\n",
              "      <td>https://n.news.naver.com/mnews/article/003/001...</td>\n",
              "      <td>2021.12.31</td>\n",
              "      <td>오후 1:45</td>\n",
              "      <td>뉴시스</td>\n",
              "      <td>\\n\\n기사내용 요약찹쌀떡·크림떡·호박죽 등 3종단호박, 2시간 이상 끓여 풍미↑찹...</td>\n",
              "    </tr>\n",
              "    <tr>\n",
              "      <td>2417</td>\n",
              "      <td>소비자물가지수 2.5% 상승…10년만에 최고치</td>\n",
              "      <td>https://n.news.naver.com/mnews/article/001/001...</td>\n",
              "      <td>2021.12.31</td>\n",
              "      <td>오후 1:44</td>\n",
              "      <td>연합뉴스</td>\n",
              "      <td>\\n\\n\\n\\n\\n\\n    (서울=연합뉴스) 강민지 기자 = 통계청이 2021년 ...</td>\n",
              "    </tr>\n",
              "    <tr>\n",
              "      <td>2418</td>\n",
              "      <td>작년대비 물가 2.5% 상승…10년만에 최고치</td>\n",
              "      <td>https://n.news.naver.com/mnews/article/001/001...</td>\n",
              "      <td>2021.12.31</td>\n",
              "      <td>오후 1:44</td>\n",
              "      <td>연합뉴스</td>\n",
              "      <td>\\n\\n\\n\\n\\n\\n    (서울=연합뉴스) 강민지 기자 = 통계청이 2021년 ...</td>\n",
              "    </tr>\n",
              "  </tbody>\n",
              "</table>\n",
              "<p>2419 rows × 6 columns</p>\n",
              "</div>"
            ],
            "text/plain": [
              "                                       title  \\\n",
              "0      해외 다녀온 한국인 5명 오미크론 감염…지역사회에 퍼졌다(종합2보)   \n",
              "1                      [포토] 영등포구 자원봉사 유공자 표창   \n",
              "2       국내도 오미크론 뚫렸다…나이지리아 방문 부부 등 5명 감염(종합)   \n",
              "3           \"샤넬이 만들었대\"…이 추운 날 3시간 만에 수백명 몰렸다   \n",
              "4          \"겨울아 어서와 신나게 놀아줄게\"…올 겨울 든든한 키즈 패션   \n",
              "...                                      ...   \n",
              "2414      한촌설렁탕, '이연에프엔씨' 얼큰설렁탕 간편식 1000팩 기부   \n",
              "2415         유재석도 \"혹시 당근?\" 외치더니 '대박'…거래 폭발했다   \n",
              "2416                  맛x영양…동경, 국산 단호박 떡·죽 선봬   \n",
              "2417               소비자물가지수 2.5% 상승…10년만에 최고치   \n",
              "2418               작년대비 물가 2.5% 상승…10년만에 최고치   \n",
              "\n",
              "                                                    url         day      time  \\\n",
              "0     https://n.news.naver.com/mnews/article/421/000...  2021.12.01  오후 11:50   \n",
              "1     https://n.news.naver.com/mnews/article/018/000...  2021.12.01  오후 11:04   \n",
              "2     https://n.news.naver.com/mnews/article/421/000...  2021.12.01  오후 10:44   \n",
              "3     https://n.news.naver.com/mnews/article/015/000...  2021.12.01  오후 10:14   \n",
              "4     https://n.news.naver.com/mnews/article/009/000...  2021.12.01  오후 10:05   \n",
              "...                                                 ...         ...       ...   \n",
              "2414  https://n.news.naver.com/mnews/article/417/000...  2021.12.31   오후 2:03   \n",
              "2415  https://n.news.naver.com/mnews/article/015/000...  2021.12.31   오후 1:54   \n",
              "2416  https://n.news.naver.com/mnews/article/003/001...  2021.12.31   오후 1:45   \n",
              "2417  https://n.news.naver.com/mnews/article/001/001...  2021.12.31   오후 1:44   \n",
              "2418  https://n.news.naver.com/mnews/article/001/001...  2021.12.31   오후 1:44   \n",
              "\n",
              "     company                                           contents  \n",
              "0        뉴스1  \\n\\n나이지리아 방문 부부 2명 외 접촉자 3명도 오미크론 변이 검출3일부터 백신...  \n",
              "1       이데일리  \\n\\n\\n\\n\\n\\n[이데일리 김태형 기자] 채현일(오른쪽 다섯번째) 영등포구청장...  \n",
              "2        뉴스1  \\n\\n부부 자녀·지인 가족 등 추가 분석 중…해외입국 확진자 중 2명 추가오미크론...  \n",
              "3       한국경제  \\n\\n유통가 겨울 스포츠 '스케이트 마케팅' 롯데백화점, 샤넬과 아이스링크 개장…...  \n",
              "4       매일경제  \\n\\n올겨울 든든한 키즈 패션화사한 컬러에 스타일리시한다운재킷으로 보온·방한 효과...  \n",
              "...      ...                                                ...  \n",
              "2414     머니S  \\n\\n\\t\\t\\t한촌설렁탕, 육수당 등 프랜차이즈와 간편식 사업을 진행하고 있는 ...  \n",
              "2415    한국경제  \\n\\n당근마켓 중고 거래 게시글 전년比 30% 증가5240만 그루 소나무 심은 효...  \n",
              "2416     뉴시스  \\n\\n기사내용 요약찹쌀떡·크림떡·호박죽 등 3종단호박, 2시간 이상 끓여 풍미↑찹...  \n",
              "2417    연합뉴스  \\n\\n\\n\\n\\n\\n    (서울=연합뉴스) 강민지 기자 = 통계청이 2021년 ...  \n",
              "2418    연합뉴스  \\n\\n\\n\\n\\n\\n    (서울=연합뉴스) 강민지 기자 = 통계청이 2021년 ...  \n",
              "\n",
              "[2419 rows x 6 columns]"
            ]
          },
          "execution_count": 365,
          "metadata": {},
          "output_type": "execute_result"
        }
      ],
      "source": [
        "month1"
      ]
    },
    {
      "cell_type": "code",
      "execution_count": null,
      "metadata": {
        "id": "-mvVjVMy4xZP",
        "outputId": "cf9ac3ae-d464-4997-91d3-b940057dccd4"
      },
      "outputs": [
        {
          "data": {
            "text/plain": [
              "title       0\n",
              "url         0\n",
              "day         0\n",
              "time        0\n",
              "company     0\n",
              "contents    3\n",
              "dtype: int64"
            ]
          },
          "execution_count": 366,
          "metadata": {},
          "output_type": "execute_result"
        }
      ],
      "source": [
        "month1.isna().sum()"
      ]
    },
    {
      "cell_type": "code",
      "execution_count": null,
      "metadata": {
        "id": "yPU-Q63G4xZQ"
      },
      "outputs": [],
      "source": []
    },
    {
      "cell_type": "code",
      "execution_count": null,
      "metadata": {
        "id": "alBFt2dR4xZR"
      },
      "outputs": [],
      "source": []
    },
    {
      "cell_type": "code",
      "execution_count": null,
      "metadata": {
        "id": "UTzLfnQ_4xZR"
      },
      "outputs": [],
      "source": []
    },
    {
      "cell_type": "code",
      "execution_count": null,
      "metadata": {
        "id": "6QZe9M2G4xZS"
      },
      "outputs": [],
      "source": []
    },
    {
      "cell_type": "code",
      "execution_count": null,
      "metadata": {
        "id": "qWja-CE24xZT"
      },
      "outputs": [],
      "source": []
    },
    {
      "cell_type": "code",
      "execution_count": null,
      "metadata": {
        "id": "LpH2YBn54xZU"
      },
      "outputs": [],
      "source": []
    },
    {
      "cell_type": "code",
      "execution_count": null,
      "metadata": {
        "id": "IQUHdlA84xZX"
      },
      "outputs": [],
      "source": [
        "month1.to_csv('month12.csv',encoding='utf-8',index=False)"
      ]
    },
    {
      "cell_type": "code",
      "execution_count": null,
      "metadata": {
        "id": "JJYG89pA4xZY"
      },
      "outputs": [],
      "source": []
    },
    {
      "cell_type": "code",
      "execution_count": null,
      "metadata": {
        "id": "0bF_7hzC4xZY"
      },
      "outputs": [],
      "source": []
    },
    {
      "cell_type": "code",
      "execution_count": null,
      "metadata": {
        "id": "kSZ--diz4xZZ"
      },
      "outputs": [],
      "source": []
    },
    {
      "cell_type": "code",
      "execution_count": null,
      "metadata": {
        "id": "T6d4zASl4xZa"
      },
      "outputs": [],
      "source": []
    },
    {
      "cell_type": "code",
      "execution_count": null,
      "metadata": {
        "id": "Hw97kFNW4xZd"
      },
      "outputs": [],
      "source": []
    },
    {
      "cell_type": "code",
      "execution_count": null,
      "metadata": {
        "id": "Sg1Hj42n4xZf",
        "outputId": "335ebb1d-3011-40f4-eeeb-4421d045dc07"
      },
      "outputs": [
        {
          "data": {
            "text/html": [
              "<div>\n",
              "<style scoped>\n",
              "    .dataframe tbody tr th:only-of-type {\n",
              "        vertical-align: middle;\n",
              "    }\n",
              "\n",
              "    .dataframe tbody tr th {\n",
              "        vertical-align: top;\n",
              "    }\n",
              "\n",
              "    .dataframe thead th {\n",
              "        text-align: right;\n",
              "    }\n",
              "</style>\n",
              "<table border=\"1\" class=\"dataframe\">\n",
              "  <thead>\n",
              "    <tr style=\"text-align: right;\">\n",
              "      <th></th>\n",
              "      <th>title</th>\n",
              "      <th>url</th>\n",
              "      <th>day</th>\n",
              "      <th>time</th>\n",
              "      <th>company</th>\n",
              "    </tr>\n",
              "  </thead>\n",
              "  <tbody>\n",
              "    <tr>\n",
              "      <td>0</td>\n",
              "      <td>'곰표맥주'도 간다…콜라보로 뜬 수제맥주들 IPO 준비 착착</td>\n",
              "      <td>https://n.news.naver.com/mnews/article/015/000...</td>\n",
              "      <td>2021.11.01</td>\n",
              "      <td>오후 10:02</td>\n",
              "      <td>한국경제</td>\n",
              "    </tr>\n",
              "    <tr>\n",
              "      <td>1</td>\n",
              "      <td>\"수지·아이유도 입는대\"…벌써부터 대박 조짐</td>\n",
              "      <td>https://n.news.naver.com/mnews/article/015/000...</td>\n",
              "      <td>2021.11.01</td>\n",
              "      <td>오후 9:02</td>\n",
              "      <td>한국경제</td>\n",
              "    </tr>\n",
              "    <tr>\n",
              "      <td>2</td>\n",
              "      <td>[데일리안 오늘뉴스 종합] '위드 코로나 첫날' 전국 오후 6시까지 1159명 신...</td>\n",
              "      <td>https://n.news.naver.com/mnews/article/119/000...</td>\n",
              "      <td>2021.11.01</td>\n",
              "      <td>오후 8:57</td>\n",
              "      <td>데일리안</td>\n",
              "    </tr>\n",
              "    <tr>\n",
              "      <td>3</td>\n",
              "      <td>2021년 10월 프랜차이즈 정보공개서 신규등록 1,229개 명단 공개 (2)</td>\n",
              "      <td>https://n.news.naver.com/mnews/article/417/000...</td>\n",
              "      <td>2021.11.01</td>\n",
              "      <td>오후 8:39</td>\n",
              "      <td>머니S</td>\n",
              "    </tr>\n",
              "    <tr>\n",
              "      <td>4</td>\n",
              "      <td>요기요, 멤버십 할인 구독 서비스 '요기패스' 출시</td>\n",
              "      <td>https://n.news.naver.com/mnews/article/421/000...</td>\n",
              "      <td>2021.11.01</td>\n",
              "      <td>오후 8:12</td>\n",
              "      <td>뉴스1</td>\n",
              "    </tr>\n",
              "    <tr>\n",
              "      <td>5</td>\n",
              "      <td>2021년 10월 프랜차이즈 정보공개서 신규등록 1,229개 명단 공개 (1)</td>\n",
              "      <td>https://n.news.naver.com/mnews/article/417/000...</td>\n",
              "      <td>2021.11.01</td>\n",
              "      <td>오후 8:03</td>\n",
              "      <td>머니S</td>\n",
              "    </tr>\n",
              "    <tr>\n",
              "      <td>6</td>\n",
              "      <td>[포토] 렉스톤보청기, 신제출 9종 출시</td>\n",
              "      <td>https://n.news.naver.com/mnews/article/018/000...</td>\n",
              "      <td>2021.11.01</td>\n",
              "      <td>오후 7:52</td>\n",
              "      <td>이데일리</td>\n",
              "    </tr>\n",
              "    <tr>\n",
              "      <td>7</td>\n",
              "      <td>[내일 날씨] 아침 기온 5도 이하로 '뚝'…큰 일교차</td>\n",
              "      <td>https://n.news.naver.com/mnews/article/119/000...</td>\n",
              "      <td>2021.11.01</td>\n",
              "      <td>오후 7:30</td>\n",
              "      <td>데일리안</td>\n",
              "    </tr>\n",
              "    <tr>\n",
              "      <td>8</td>\n",
              "      <td>부활하고 있는 김선호 광고…도미노 피자는 '이것' 택했다</td>\n",
              "      <td>https://n.news.naver.com/mnews/article/018/000...</td>\n",
              "      <td>2021.11.01</td>\n",
              "      <td>오후 7:04</td>\n",
              "      <td>이데일리</td>\n",
              "    </tr>\n",
              "    <tr>\n",
              "      <td>9</td>\n",
              "      <td>교촌치킨, '사랑아 교촌해' 유튜브 100만뷰 돌파 … ﻿‘맥스서밋 2021’ 어...</td>\n",
              "      <td>https://n.news.naver.com/mnews/article/417/000...</td>\n",
              "      <td>2021.11.01</td>\n",
              "      <td>오후 7:03</td>\n",
              "      <td>머니S</td>\n",
              "    </tr>\n",
              "  </tbody>\n",
              "</table>\n",
              "</div>"
            ],
            "text/plain": [
              "                                               title  \\\n",
              "0                  '곰표맥주'도 간다…콜라보로 뜬 수제맥주들 IPO 준비 착착   \n",
              "1                           \"수지·아이유도 입는대\"…벌써부터 대박 조짐   \n",
              "2   [데일리안 오늘뉴스 종합] '위드 코로나 첫날' 전국 오후 6시까지 1159명 신...   \n",
              "3        2021년 10월 프랜차이즈 정보공개서 신규등록 1,229개 명단 공개 (2)   \n",
              "4                       요기요, 멤버십 할인 구독 서비스 '요기패스' 출시   \n",
              "5        2021년 10월 프랜차이즈 정보공개서 신규등록 1,229개 명단 공개 (1)   \n",
              "6                             [포토] 렉스톤보청기, 신제출 9종 출시   \n",
              "7                     [내일 날씨] 아침 기온 5도 이하로 '뚝'…큰 일교차   \n",
              "8                    부활하고 있는 김선호 광고…도미노 피자는 '이것' 택했다   \n",
              "9   교촌치킨, '사랑아 교촌해' 유튜브 100만뷰 돌파 … ﻿‘맥스서밋 2021’ 어...   \n",
              "\n",
              "                                                 url         day      time  \\\n",
              "0  https://n.news.naver.com/mnews/article/015/000...  2021.11.01  오후 10:02   \n",
              "1  https://n.news.naver.com/mnews/article/015/000...  2021.11.01   오후 9:02   \n",
              "2  https://n.news.naver.com/mnews/article/119/000...  2021.11.01   오후 8:57   \n",
              "3  https://n.news.naver.com/mnews/article/417/000...  2021.11.01   오후 8:39   \n",
              "4  https://n.news.naver.com/mnews/article/421/000...  2021.11.01   오후 8:12   \n",
              "5  https://n.news.naver.com/mnews/article/417/000...  2021.11.01   오후 8:03   \n",
              "6  https://n.news.naver.com/mnews/article/018/000...  2021.11.01   오후 7:52   \n",
              "7  https://n.news.naver.com/mnews/article/119/000...  2021.11.01   오후 7:30   \n",
              "8  https://n.news.naver.com/mnews/article/018/000...  2021.11.01   오후 7:04   \n",
              "9  https://n.news.naver.com/mnews/article/417/000...  2021.11.01   오후 7:03   \n",
              "\n",
              "  company  \n",
              "0    한국경제  \n",
              "1    한국경제  \n",
              "2    데일리안  \n",
              "3     머니S  \n",
              "4     뉴스1  \n",
              "5     머니S  \n",
              "6    이데일리  \n",
              "7    데일리안  \n",
              "8    이데일리  \n",
              "9     머니S  "
            ]
          },
          "execution_count": 135,
          "metadata": {},
          "output_type": "execute_result"
        }
      ],
      "source": [
        "month11=pd.read_csv('month11.csv')\n",
        "month11.head(10)"
      ]
    },
    {
      "cell_type": "code",
      "execution_count": null,
      "metadata": {
        "id": "DODmomOe4xZg",
        "outputId": "136584bf-a77b-463f-8b8d-67c4d605544b"
      },
      "outputs": [
        {
          "data": {
            "text/html": [
              "<div>\n",
              "<style scoped>\n",
              "    .dataframe tbody tr th:only-of-type {\n",
              "        vertical-align: middle;\n",
              "    }\n",
              "\n",
              "    .dataframe tbody tr th {\n",
              "        vertical-align: top;\n",
              "    }\n",
              "\n",
              "    .dataframe thead th {\n",
              "        text-align: right;\n",
              "    }\n",
              "</style>\n",
              "<table border=\"1\" class=\"dataframe\">\n",
              "  <thead>\n",
              "    <tr style=\"text-align: right;\">\n",
              "      <th></th>\n",
              "      <th>title</th>\n",
              "      <th>url</th>\n",
              "      <th>day</th>\n",
              "      <th>time</th>\n",
              "      <th>company</th>\n",
              "    </tr>\n",
              "  </thead>\n",
              "  <tbody>\n",
              "    <tr>\n",
              "      <td>2349</td>\n",
              "      <td>내년부터 상속세 최대 10년까지 나눠낸다</td>\n",
              "      <td>https://n.news.naver.com/mnews/article/001/001...</td>\n",
              "      <td>2021.11.30</td>\n",
              "      <td>오후 4:36</td>\n",
              "      <td>연합뉴스</td>\n",
              "    </tr>\n",
              "    <tr>\n",
              "      <td>2350</td>\n",
              "      <td>아영FBC, 파이퍼하이직 오흐 세리 1971 한정 판매</td>\n",
              "      <td>https://n.news.naver.com/mnews/article/468/000...</td>\n",
              "      <td>2021.11.30</td>\n",
              "      <td>오후 4:32</td>\n",
              "      <td>스포츠서울</td>\n",
              "    </tr>\n",
              "    <tr>\n",
              "      <td>2351</td>\n",
              "      <td>강희석 SSG닷컴 대표 “내년 온·오프라인 시너지 완성 원년될 것”</td>\n",
              "      <td>https://n.news.naver.com/mnews/article/018/000...</td>\n",
              "      <td>2021.11.30</td>\n",
              "      <td>오후 4:31</td>\n",
              "      <td>이데일리</td>\n",
              "    </tr>\n",
              "    <tr>\n",
              "      <td>2352</td>\n",
              "      <td>코니바이에린, 베이비 라인 신제품 3종 출시</td>\n",
              "      <td>https://n.news.naver.com/mnews/article/119/000...</td>\n",
              "      <td>2021.11.30</td>\n",
              "      <td>오후 4:26</td>\n",
              "      <td>데일리안</td>\n",
              "    </tr>\n",
              "    <tr>\n",
              "      <td>2353</td>\n",
              "      <td>\"툭 터놓고 톡 합시다\" 쓱닷컴, '오픈 톡' 열고 비대면 소통 강화</td>\n",
              "      <td>https://n.news.naver.com/mnews/article/421/000...</td>\n",
              "      <td>2021.11.30</td>\n",
              "      <td>오후 4:24</td>\n",
              "      <td>뉴스1</td>\n",
              "    </tr>\n",
              "    <tr>\n",
              "      <td>2354</td>\n",
              "      <td>배민에 '기본 반찬 안 받기' 기능 생긴다…\"환경 보호\"</td>\n",
              "      <td>https://n.news.naver.com/mnews/article/003/001...</td>\n",
              "      <td>2021.11.30</td>\n",
              "      <td>오후 4:23</td>\n",
              "      <td>뉴시스</td>\n",
              "    </tr>\n",
              "    <tr>\n",
              "      <td>2355</td>\n",
              "      <td>엔지켐생명과학 “구강점막염 신약 기술이전 자신”...글로벌 3상 추진</td>\n",
              "      <td>https://n.news.naver.com/mnews/article/018/000...</td>\n",
              "      <td>2021.11.30</td>\n",
              "      <td>오후 4:19</td>\n",
              "      <td>이데일리</td>\n",
              "    </tr>\n",
              "    <tr>\n",
              "      <td>2356</td>\n",
              "      <td>현지에서 먹힐까?…하이트진로, ‘햄소(햄버거+소주)’로 英시장 공략</td>\n",
              "      <td>https://n.news.naver.com/mnews/article/020/000...</td>\n",
              "      <td>2021.11.30</td>\n",
              "      <td>오후 4:13</td>\n",
              "      <td>동아일보</td>\n",
              "    </tr>\n",
              "    <tr>\n",
              "      <td>2357</td>\n",
              "      <td>머지포인트, 모스버거 등 오프라인 결제 중단… 사업 축소 수순</td>\n",
              "      <td>https://n.news.naver.com/mnews/article/366/000...</td>\n",
              "      <td>2021.11.30</td>\n",
              "      <td>오후 4:12</td>\n",
              "      <td>조선비즈</td>\n",
              "    </tr>\n",
              "    <tr>\n",
              "      <td>2358</td>\n",
              "      <td>“AI 코치가 스윙 교정”…골프존, 서비스 차별화 속도</td>\n",
              "      <td>https://n.news.naver.com/mnews/article/366/000...</td>\n",
              "      <td>2021.11.30</td>\n",
              "      <td>오후 4:08</td>\n",
              "      <td>조선비즈</td>\n",
              "    </tr>\n",
              "  </tbody>\n",
              "</table>\n",
              "</div>"
            ],
            "text/plain": [
              "                                        title  \\\n",
              "2349                   내년부터 상속세 최대 10년까지 나눠낸다   \n",
              "2350           아영FBC, 파이퍼하이직 오흐 세리 1971 한정 판매   \n",
              "2351    강희석 SSG닷컴 대표 “내년 온·오프라인 시너지 완성 원년될 것”   \n",
              "2352                 코니바이에린, 베이비 라인 신제품 3종 출시   \n",
              "2353   \"툭 터놓고 톡 합시다\" 쓱닷컴, '오픈 톡' 열고 비대면 소통 강화   \n",
              "2354          배민에 '기본 반찬 안 받기' 기능 생긴다…\"환경 보호\"   \n",
              "2355   엔지켐생명과학 “구강점막염 신약 기술이전 자신”...글로벌 3상 추진   \n",
              "2356    현지에서 먹힐까?…하이트진로, ‘햄소(햄버거+소주)’로 英시장 공략   \n",
              "2357       머지포인트, 모스버거 등 오프라인 결제 중단… 사업 축소 수순   \n",
              "2358           “AI 코치가 스윙 교정”…골프존, 서비스 차별화 속도   \n",
              "\n",
              "                                                    url         day     time  \\\n",
              "2349  https://n.news.naver.com/mnews/article/001/001...  2021.11.30  오후 4:36   \n",
              "2350  https://n.news.naver.com/mnews/article/468/000...  2021.11.30  오후 4:32   \n",
              "2351  https://n.news.naver.com/mnews/article/018/000...  2021.11.30  오후 4:31   \n",
              "2352  https://n.news.naver.com/mnews/article/119/000...  2021.11.30  오후 4:26   \n",
              "2353  https://n.news.naver.com/mnews/article/421/000...  2021.11.30  오후 4:24   \n",
              "2354  https://n.news.naver.com/mnews/article/003/001...  2021.11.30  오후 4:23   \n",
              "2355  https://n.news.naver.com/mnews/article/018/000...  2021.11.30  오후 4:19   \n",
              "2356  https://n.news.naver.com/mnews/article/020/000...  2021.11.30  오후 4:13   \n",
              "2357  https://n.news.naver.com/mnews/article/366/000...  2021.11.30  오후 4:12   \n",
              "2358  https://n.news.naver.com/mnews/article/366/000...  2021.11.30  오후 4:08   \n",
              "\n",
              "     company  \n",
              "2349    연합뉴스  \n",
              "2350   스포츠서울  \n",
              "2351    이데일리  \n",
              "2352    데일리안  \n",
              "2353     뉴스1  \n",
              "2354     뉴시스  \n",
              "2355    이데일리  \n",
              "2356    동아일보  \n",
              "2357    조선비즈  \n",
              "2358    조선비즈  "
            ]
          },
          "execution_count": 136,
          "metadata": {},
          "output_type": "execute_result"
        }
      ],
      "source": [
        "month11.tail(10)"
      ]
    },
    {
      "cell_type": "code",
      "execution_count": null,
      "metadata": {
        "id": "SjKym9UP4xZg"
      },
      "outputs": [],
      "source": []
    },
    {
      "cell_type": "code",
      "execution_count": null,
      "metadata": {
        "id": "6KjMPPC-4xZh"
      },
      "outputs": [],
      "source": []
    },
    {
      "cell_type": "code",
      "execution_count": null,
      "metadata": {
        "id": "EfXFOBXU4xZh"
      },
      "outputs": [],
      "source": []
    },
    {
      "cell_type": "code",
      "execution_count": null,
      "metadata": {
        "id": "a0ev4xXZ4xZi"
      },
      "outputs": [],
      "source": []
    },
    {
      "cell_type": "code",
      "execution_count": null,
      "metadata": {
        "id": "aii5USfh4xZj",
        "outputId": "90234295-b055-4b64-c15e-595311791cf2"
      },
      "outputs": [
        {
          "data": {
            "text/plain": [
              "'https://n.news.naver.com/mnews/article/018/0004843067?sid=101'"
            ]
          },
          "execution_count": 50,
          "metadata": {},
          "output_type": "execute_result"
        }
      ],
      "source": []
    },
    {
      "cell_type": "code",
      "execution_count": null,
      "metadata": {
        "id": "wVDTif1Z4xZj"
      },
      "outputs": [],
      "source": []
    },
    {
      "cell_type": "code",
      "execution_count": null,
      "metadata": {
        "id": "ZcTV9m1n4xZk"
      },
      "outputs": [],
      "source": []
    },
    {
      "cell_type": "markdown",
      "metadata": {
        "id": "ah57nnNh4xZk"
      },
      "source": [
        "# merged"
      ]
    },
    {
      "cell_type": "code",
      "execution_count": null,
      "metadata": {
        "id": "FI9UCrtG4xZl",
        "outputId": "7e6dfd29-e7c1-4b14-eb5e-c2987d40a46a"
      },
      "outputs": [
        {
          "data": {
            "text/plain": [
              "[1, 2, 3, 4, 5, 6, 7, 8, 9, 10, 11, 12]"
            ]
          },
          "execution_count": 137,
          "metadata": {},
          "output_type": "execute_result"
        }
      ],
      "source": [
        "month=[i for i in range(1,13)]\n",
        "month"
      ]
    },
    {
      "cell_type": "code",
      "execution_count": null,
      "metadata": {
        "id": "gYcl6_2B4xZm",
        "outputId": "3b97fa5e-eb87-4b5a-f7ce-e21b62cf0c25"
      },
      "outputs": [
        {
          "data": {
            "text/plain": [
              "title       0\n",
              "url         0\n",
              "day         0\n",
              "time        0\n",
              "company     0\n",
              "contents    1\n",
              "dtype: int64"
            ]
          },
          "execution_count": 147,
          "metadata": {},
          "output_type": "execute_result"
        }
      ],
      "source": [
        "mon1=pd.read_csv('month1.csv')\n",
        "mon1.isna().sum()"
      ]
    },
    {
      "cell_type": "code",
      "execution_count": null,
      "metadata": {
        "id": "Whkkn3Tr4xZn",
        "outputId": "ae398a39-1b3e-4df3-b74f-f11aa100db79"
      },
      "outputs": [
        {
          "name": "stdout",
          "output_type": "stream",
          "text": [
            "2\n",
            "title       0\n",
            "url         0\n",
            "day         0\n",
            "time        0\n",
            "company     0\n",
            "contents    4\n",
            "dtype: int64\n",
            "------------\n",
            "3\n",
            "title      0\n",
            "url        0\n",
            "day        0\n",
            "time       0\n",
            "company    0\n",
            "dtype: int64\n",
            "------------\n",
            "4\n",
            "title      0\n",
            "url        0\n",
            "day        0\n",
            "time       0\n",
            "company    0\n",
            "dtype: int64\n",
            "------------\n",
            "5\n",
            "title      0\n",
            "url        0\n",
            "day        0\n",
            "time       0\n",
            "company    0\n",
            "dtype: int64\n",
            "------------\n",
            "6\n",
            "title      0\n",
            "url        0\n",
            "day        0\n",
            "time       0\n",
            "company    0\n",
            "dtype: int64\n",
            "------------\n",
            "7\n",
            "title      0\n",
            "url        0\n",
            "day        0\n",
            "time       0\n",
            "company    0\n",
            "dtype: int64\n",
            "------------\n",
            "8"
          ]
        },
        {
          "name": "stderr",
          "output_type": "stream",
          "text": [
            "C:\\Users\\koh99\\Anaconda3\\lib\\site-packages\\ipykernel_launcher.py:8: FutureWarning: Sorting because non-concatenation axis is not aligned. A future version\n",
            "of pandas will change to not sort by default.\n",
            "\n",
            "To accept the future behavior, pass 'sort=False'.\n",
            "\n",
            "To retain the current behavior and silence the warning, pass 'sort=True'.\n",
            "\n",
            "  \n"
          ]
        },
        {
          "name": "stdout",
          "output_type": "stream",
          "text": [
            "\n",
            "title      0\n",
            "url        0\n",
            "day        0\n",
            "time       0\n",
            "company    0\n",
            "dtype: int64\n",
            "------------\n",
            "9\n",
            "title      0\n",
            "url        0\n",
            "day        0\n",
            "time       0\n",
            "company    0\n",
            "dtype: int64\n",
            "------------\n",
            "10\n",
            "title      0\n",
            "url        0\n",
            "day        0\n",
            "time       0\n",
            "company    0\n",
            "dtype: int64\n",
            "------------\n",
            "11\n",
            "title      0\n",
            "url        0\n",
            "day        0\n",
            "time       0\n",
            "company    0\n",
            "dtype: int64\n",
            "------------\n",
            "12\n",
            "title      0\n",
            "url        0\n",
            "day        0\n",
            "time       0\n",
            "company    0\n",
            "dtype: int64\n",
            "------------\n"
          ]
        }
      ],
      "source": [
        "df=pd.read_csv('month1.csv')\n",
        "\n",
        "for i in month[1:]:\n",
        "    m=pd.read_csv('month'+str(i)+'.csv')\n",
        "    print(i)\n",
        "    print(m.isna().sum())\n",
        "    print('------------')\n",
        "    df=pd.concat([df,m])"
      ]
    },
    {
      "cell_type": "code",
      "execution_count": null,
      "metadata": {
        "id": "fbpEUR0i4xZn",
        "outputId": "3f747d43-e4f0-48d8-f632-266190e6cf07"
      },
      "outputs": [
        {
          "data": {
            "text/html": [
              "<div>\n",
              "<style scoped>\n",
              "    .dataframe tbody tr th:only-of-type {\n",
              "        vertical-align: middle;\n",
              "    }\n",
              "\n",
              "    .dataframe tbody tr th {\n",
              "        vertical-align: top;\n",
              "    }\n",
              "\n",
              "    .dataframe thead th {\n",
              "        text-align: right;\n",
              "    }\n",
              "</style>\n",
              "<table border=\"1\" class=\"dataframe\">\n",
              "  <thead>\n",
              "    <tr style=\"text-align: right;\">\n",
              "      <th></th>\n",
              "      <th>company</th>\n",
              "      <th>contents</th>\n",
              "      <th>day</th>\n",
              "      <th>time</th>\n",
              "      <th>title</th>\n",
              "      <th>url</th>\n",
              "    </tr>\n",
              "  </thead>\n",
              "  <tbody>\n",
              "    <tr>\n",
              "      <td>0</td>\n",
              "      <td>동아일보</td>\n",
              "      <td>\\n\\n\\n\\n\\n\\n2021년 신축년(辛丑年) 새해 첫 날인 1일 오후 서울 중구...</td>\n",
              "      <td>2021.01.01</td>\n",
              "      <td>오후 9:39</td>\n",
              "      <td>‘확진자 폭발적 증가는 막았다’…업종별 숨통 열어줄 듯</td>\n",
              "      <td>https://n.news.naver.com/mnews/article/020/000...</td>\n",
              "    </tr>\n",
              "    <tr>\n",
              "      <td>1</td>\n",
              "      <td>연합뉴스</td>\n",
              "      <td>\\n\\n\\n\\n\\n\\n유시민 노무현재단 이사장사람사는세상노무현재단 유튜브 캡처 [재...</td>\n",
              "      <td>2021.01.01</td>\n",
              "      <td>오후 9:14</td>\n",
              "      <td>유시민 \"부동산세 헐렁하단 지적…불로소득 더 과세해야\"</td>\n",
              "      <td>https://n.news.naver.com/mnews/article/001/001...</td>\n",
              "    </tr>\n",
              "    <tr>\n",
              "      <td>2</td>\n",
              "      <td>데일리안</td>\n",
              "      <td>\\n\\n\\n\\n\\n\\nⓒ한만두식품한만두식품이 다가오는 설 명절을 맞아 2021 설 ...</td>\n",
              "      <td>2021.01.01</td>\n",
              "      <td>오후 9:04</td>\n",
              "      <td>한만두식품, 설 선물세트 출시</td>\n",
              "      <td>https://n.news.naver.com/mnews/article/119/000...</td>\n",
              "    </tr>\n",
              "    <tr>\n",
              "      <td>3</td>\n",
              "      <td>뉴스1</td>\n",
              "      <td>\\n\\n'수도권 2.5단계/비수도권 2단계', '연말연시 특별방역' 3일 시한 추가...</td>\n",
              "      <td>2021.01.01</td>\n",
              "      <td>오후 7:09</td>\n",
              "      <td>2일 거리두기 조정 발표…3단계는 배제, 현 단계 연장할 듯</td>\n",
              "      <td>https://n.news.naver.com/mnews/article/421/000...</td>\n",
              "    </tr>\n",
              "    <tr>\n",
              "      <td>4</td>\n",
              "      <td>뉴스1</td>\n",
              "      <td>\\n\\n외국인 공항 입국 8일부터, 항만 승선 15일부터 음성 확인서 의무화PCR음...</td>\n",
              "      <td>2021.01.01</td>\n",
              "      <td>오후 4:07</td>\n",
              "      <td>'변이 코로나' 전 세계 비상…모든 입국 외국인에 'PCR음성' 확인</td>\n",
              "      <td>https://n.news.naver.com/mnews/article/421/000...</td>\n",
              "    </tr>\n",
              "    <tr>\n",
              "      <td>...</td>\n",
              "      <td>...</td>\n",
              "      <td>...</td>\n",
              "      <td>...</td>\n",
              "      <td>...</td>\n",
              "      <td>...</td>\n",
              "      <td>...</td>\n",
              "    </tr>\n",
              "    <tr>\n",
              "      <td>2414</td>\n",
              "      <td>머니S</td>\n",
              "      <td>NaN</td>\n",
              "      <td>2021.12.31</td>\n",
              "      <td>오후 2:03</td>\n",
              "      <td>한촌설렁탕, '이연에프엔씨' 얼큰설렁탕 간편식 1000팩 기부</td>\n",
              "      <td>https://n.news.naver.com/mnews/article/417/000...</td>\n",
              "    </tr>\n",
              "    <tr>\n",
              "      <td>2415</td>\n",
              "      <td>한국경제</td>\n",
              "      <td>NaN</td>\n",
              "      <td>2021.12.31</td>\n",
              "      <td>오후 1:54</td>\n",
              "      <td>유재석도 \"혹시 당근?\" 외치더니 '대박'…거래 폭발했다</td>\n",
              "      <td>https://n.news.naver.com/mnews/article/015/000...</td>\n",
              "    </tr>\n",
              "    <tr>\n",
              "      <td>2416</td>\n",
              "      <td>뉴시스</td>\n",
              "      <td>NaN</td>\n",
              "      <td>2021.12.31</td>\n",
              "      <td>오후 1:45</td>\n",
              "      <td>맛x영양…동경, 국산 단호박 떡·죽 선봬</td>\n",
              "      <td>https://n.news.naver.com/mnews/article/003/001...</td>\n",
              "    </tr>\n",
              "    <tr>\n",
              "      <td>2417</td>\n",
              "      <td>연합뉴스</td>\n",
              "      <td>NaN</td>\n",
              "      <td>2021.12.31</td>\n",
              "      <td>오후 1:44</td>\n",
              "      <td>소비자물가지수 2.5% 상승…10년만에 최고치</td>\n",
              "      <td>https://n.news.naver.com/mnews/article/001/001...</td>\n",
              "    </tr>\n",
              "    <tr>\n",
              "      <td>2418</td>\n",
              "      <td>연합뉴스</td>\n",
              "      <td>NaN</td>\n",
              "      <td>2021.12.31</td>\n",
              "      <td>오후 1:44</td>\n",
              "      <td>작년대비 물가 2.5% 상승…10년만에 최고치</td>\n",
              "      <td>https://n.news.naver.com/mnews/article/001/001...</td>\n",
              "    </tr>\n",
              "  </tbody>\n",
              "</table>\n",
              "<p>28479 rows × 6 columns</p>\n",
              "</div>"
            ],
            "text/plain": [
              "     company                                           contents         day  \\\n",
              "0       동아일보  \\n\\n\\n\\n\\n\\n2021년 신축년(辛丑年) 새해 첫 날인 1일 오후 서울 중구...  2021.01.01   \n",
              "1       연합뉴스  \\n\\n\\n\\n\\n\\n유시민 노무현재단 이사장사람사는세상노무현재단 유튜브 캡처 [재...  2021.01.01   \n",
              "2       데일리안  \\n\\n\\n\\n\\n\\nⓒ한만두식품한만두식품이 다가오는 설 명절을 맞아 2021 설 ...  2021.01.01   \n",
              "3        뉴스1  \\n\\n'수도권 2.5단계/비수도권 2단계', '연말연시 특별방역' 3일 시한 추가...  2021.01.01   \n",
              "4        뉴스1  \\n\\n외국인 공항 입국 8일부터, 항만 승선 15일부터 음성 확인서 의무화PCR음...  2021.01.01   \n",
              "...      ...                                                ...         ...   \n",
              "2414     머니S                                                NaN  2021.12.31   \n",
              "2415    한국경제                                                NaN  2021.12.31   \n",
              "2416     뉴시스                                                NaN  2021.12.31   \n",
              "2417    연합뉴스                                                NaN  2021.12.31   \n",
              "2418    연합뉴스                                                NaN  2021.12.31   \n",
              "\n",
              "         time                                    title  \\\n",
              "0     오후 9:39           ‘확진자 폭발적 증가는 막았다’…업종별 숨통 열어줄 듯   \n",
              "1     오후 9:14           유시민 \"부동산세 헐렁하단 지적…불로소득 더 과세해야\"   \n",
              "2     오후 9:04                         한만두식품, 설 선물세트 출시   \n",
              "3     오후 7:09        2일 거리두기 조정 발표…3단계는 배제, 현 단계 연장할 듯   \n",
              "4     오후 4:07   '변이 코로나' 전 세계 비상…모든 입국 외국인에 'PCR음성' 확인   \n",
              "...       ...                                      ...   \n",
              "2414  오후 2:03       한촌설렁탕, '이연에프엔씨' 얼큰설렁탕 간편식 1000팩 기부   \n",
              "2415  오후 1:54          유재석도 \"혹시 당근?\" 외치더니 '대박'…거래 폭발했다   \n",
              "2416  오후 1:45                   맛x영양…동경, 국산 단호박 떡·죽 선봬   \n",
              "2417  오후 1:44                소비자물가지수 2.5% 상승…10년만에 최고치   \n",
              "2418  오후 1:44                작년대비 물가 2.5% 상승…10년만에 최고치   \n",
              "\n",
              "                                                    url  \n",
              "0     https://n.news.naver.com/mnews/article/020/000...  \n",
              "1     https://n.news.naver.com/mnews/article/001/001...  \n",
              "2     https://n.news.naver.com/mnews/article/119/000...  \n",
              "3     https://n.news.naver.com/mnews/article/421/000...  \n",
              "4     https://n.news.naver.com/mnews/article/421/000...  \n",
              "...                                                 ...  \n",
              "2414  https://n.news.naver.com/mnews/article/417/000...  \n",
              "2415  https://n.news.naver.com/mnews/article/015/000...  \n",
              "2416  https://n.news.naver.com/mnews/article/003/001...  \n",
              "2417  https://n.news.naver.com/mnews/article/001/001...  \n",
              "2418  https://n.news.naver.com/mnews/article/001/001...  \n",
              "\n",
              "[28479 rows x 6 columns]"
            ]
          },
          "execution_count": 144,
          "metadata": {},
          "output_type": "execute_result"
        }
      ],
      "source": [
        "df"
      ]
    },
    {
      "cell_type": "code",
      "execution_count": null,
      "metadata": {
        "id": "LixvYpbn4xZo",
        "outputId": "3912d898-cc63-446c-e6e4-a05a46c3fc8a"
      },
      "outputs": [
        {
          "data": {
            "text/plain": [
              "company         0\n",
              "contents    23977\n",
              "day             0\n",
              "time            0\n",
              "title           0\n",
              "url             0\n",
              "dtype: int64"
            ]
          },
          "execution_count": 145,
          "metadata": {},
          "output_type": "execute_result"
        }
      ],
      "source": [
        "df.isna().sum()"
      ]
    },
    {
      "cell_type": "code",
      "execution_count": null,
      "metadata": {
        "id": "v_7Jh96u4xZp"
      },
      "outputs": [],
      "source": []
    },
    {
      "cell_type": "code",
      "execution_count": null,
      "metadata": {
        "id": "tVEep_4d4xZp",
        "outputId": "915ba3a2-437d-49bf-b949-0303790c4be4"
      },
      "outputs": [
        {
          "name": "stdout",
          "output_type": "stream",
          "text": [
            "(2348, 6)\n",
            "(2159, 6)\n",
            "(2404, 5)\n"
          ]
        },
        {
          "data": {
            "text/html": [
              "<div>\n",
              "<style scoped>\n",
              "    .dataframe tbody tr th:only-of-type {\n",
              "        vertical-align: middle;\n",
              "    }\n",
              "\n",
              "    .dataframe tbody tr th {\n",
              "        vertical-align: top;\n",
              "    }\n",
              "\n",
              "    .dataframe thead th {\n",
              "        text-align: right;\n",
              "    }\n",
              "</style>\n",
              "<table border=\"1\" class=\"dataframe\">\n",
              "  <thead>\n",
              "    <tr style=\"text-align: right;\">\n",
              "      <th></th>\n",
              "      <th>title</th>\n",
              "      <th>url</th>\n",
              "      <th>day</th>\n",
              "      <th>time</th>\n",
              "      <th>company</th>\n",
              "      <th>contents</th>\n",
              "    </tr>\n",
              "  </thead>\n",
              "  <tbody>\n",
              "    <tr>\n",
              "      <td>0</td>\n",
              "      <td>‘확진자 폭발적 증가는 막았다’…업종별 숨통 열어줄 듯</td>\n",
              "      <td>https://n.news.naver.com/mnews/article/020/000...</td>\n",
              "      <td>2021.01.01</td>\n",
              "      <td>오후 9:39</td>\n",
              "      <td>동아일보</td>\n",
              "      <td>\\n\\n\\n\\n\\n\\n2021년 신축년(辛丑年) 새해 첫 날인 1일 오후 서울 중구...</td>\n",
              "    </tr>\n",
              "    <tr>\n",
              "      <td>1</td>\n",
              "      <td>유시민 \"부동산세 헐렁하단 지적…불로소득 더 과세해야\"</td>\n",
              "      <td>https://n.news.naver.com/mnews/article/001/001...</td>\n",
              "      <td>2021.01.01</td>\n",
              "      <td>오후 9:14</td>\n",
              "      <td>연합뉴스</td>\n",
              "      <td>\\n\\n\\n\\n\\n\\n유시민 노무현재단 이사장사람사는세상노무현재단 유튜브 캡처 [재...</td>\n",
              "    </tr>\n",
              "    <tr>\n",
              "      <td>2</td>\n",
              "      <td>한만두식품, 설 선물세트 출시</td>\n",
              "      <td>https://n.news.naver.com/mnews/article/119/000...</td>\n",
              "      <td>2021.01.01</td>\n",
              "      <td>오후 9:04</td>\n",
              "      <td>데일리안</td>\n",
              "      <td>\\n\\n\\n\\n\\n\\nⓒ한만두식품한만두식품이 다가오는 설 명절을 맞아 2021 설 ...</td>\n",
              "    </tr>\n",
              "    <tr>\n",
              "      <td>3</td>\n",
              "      <td>2일 거리두기 조정 발표…3단계는 배제, 현 단계 연장할 듯</td>\n",
              "      <td>https://n.news.naver.com/mnews/article/421/000...</td>\n",
              "      <td>2021.01.01</td>\n",
              "      <td>오후 7:09</td>\n",
              "      <td>뉴스1</td>\n",
              "      <td>\\n\\n'수도권 2.5단계/비수도권 2단계', '연말연시 특별방역' 3일 시한 추가...</td>\n",
              "    </tr>\n",
              "    <tr>\n",
              "      <td>4</td>\n",
              "      <td>'변이 코로나' 전 세계 비상…모든 입국 외국인에 'PCR음성' 확인</td>\n",
              "      <td>https://n.news.naver.com/mnews/article/421/000...</td>\n",
              "      <td>2021.01.01</td>\n",
              "      <td>오후 4:07</td>\n",
              "      <td>뉴스1</td>\n",
              "      <td>\\n\\n외국인 공항 입국 8일부터, 항만 승선 15일부터 음성 확인서 의무화PCR음...</td>\n",
              "    </tr>\n",
              "    <tr>\n",
              "      <td>...</td>\n",
              "      <td>...</td>\n",
              "      <td>...</td>\n",
              "      <td>...</td>\n",
              "      <td>...</td>\n",
              "      <td>...</td>\n",
              "      <td>...</td>\n",
              "    </tr>\n",
              "    <tr>\n",
              "      <td>2154</td>\n",
              "      <td>[알아봅시다]패딩 표백제 피하고, 플리스 미지근한 물에</td>\n",
              "      <td>https://n.news.naver.com/mnews/article/003/001...</td>\n",
              "      <td>2021.02.28</td>\n",
              "      <td>오전 6:00</td>\n",
              "      <td>뉴시스</td>\n",
              "      <td>\\n\\n겨울철 의류 관리하는 법\\n\\n\\n\\n[서울=뉴시스] (사진=애경산업 제공)...</td>\n",
              "    </tr>\n",
              "    <tr>\n",
              "      <td>2155</td>\n",
              "      <td>정치권서 \"세금 걷어 복지 늘리자\" 봇물…누가 부담?</td>\n",
              "      <td>https://n.news.naver.com/mnews/article/001/001...</td>\n",
              "      <td>2021.02.28</td>\n",
              "      <td>오전 5:51</td>\n",
              "      <td>연합뉴스</td>\n",
              "      <td>\\n\\n학계, 증세엔 공감…부자증세·보편증세 의견 갈려\\n\\n\\n\\n[그래픽] 국가...</td>\n",
              "    </tr>\n",
              "    <tr>\n",
              "      <td>2156</td>\n",
              "      <td>'봄 맞이 가전 사볼까'…하이마트 '빅하트 세일'</td>\n",
              "      <td>https://n.news.naver.com/mnews/article/003/001...</td>\n",
              "      <td>2021.02.28</td>\n",
              "      <td>오전 5:00</td>\n",
              "      <td>뉴시스</td>\n",
              "      <td>\\n\\n\\n\\n\\n\\n[서울=뉴시스] 손정빈 기자 = 롯데하이마트가 온라인쇼핑몰에서...</td>\n",
              "    </tr>\n",
              "    <tr>\n",
              "      <td>2157</td>\n",
              "      <td>[장수브랜드 탄생비화]빙그레 바나나맛우유, 매출 2천억 비결은 '한국적'</td>\n",
              "      <td>https://n.news.naver.com/mnews/article/003/001...</td>\n",
              "      <td>2021.02.28</td>\n",
              "      <td>오전 5:00</td>\n",
              "      <td>뉴시스</td>\n",
              "      <td>\\n\\n1974년 출시후 국내 1위 가공우유한국적 정서 담은 용기가 브랜드 상징아이...</td>\n",
              "    </tr>\n",
              "    <tr>\n",
              "      <td>2158</td>\n",
              "      <td>'다 저렴하게'…홈플러스, 3월1일 창립 기념 행사</td>\n",
              "      <td>https://n.news.naver.com/mnews/article/003/001...</td>\n",
              "      <td>2021.02.28</td>\n",
              "      <td>오전 5:00</td>\n",
              "      <td>뉴시스</td>\n",
              "      <td>\\n\\n\\n\\n\\n\\n[서울=뉴시스] 손정빈 기자 = 홈플러스가 창립 24주년을 기...</td>\n",
              "    </tr>\n",
              "  </tbody>\n",
              "</table>\n",
              "<p>4507 rows × 6 columns</p>\n",
              "</div>"
            ],
            "text/plain": [
              "                                          title  \\\n",
              "0                ‘확진자 폭발적 증가는 막았다’…업종별 숨통 열어줄 듯   \n",
              "1                유시민 \"부동산세 헐렁하단 지적…불로소득 더 과세해야\"   \n",
              "2                              한만두식품, 설 선물세트 출시   \n",
              "3             2일 거리두기 조정 발표…3단계는 배제, 현 단계 연장할 듯   \n",
              "4        '변이 코로나' 전 세계 비상…모든 입국 외국인에 'PCR음성' 확인   \n",
              "...                                         ...   \n",
              "2154             [알아봅시다]패딩 표백제 피하고, 플리스 미지근한 물에   \n",
              "2155              정치권서 \"세금 걷어 복지 늘리자\" 봇물…누가 부담?   \n",
              "2156                '봄 맞이 가전 사볼까'…하이마트 '빅하트 세일'   \n",
              "2157   [장수브랜드 탄생비화]빙그레 바나나맛우유, 매출 2천억 비결은 '한국적'   \n",
              "2158               '다 저렴하게'…홈플러스, 3월1일 창립 기념 행사   \n",
              "\n",
              "                                                    url         day     time  \\\n",
              "0     https://n.news.naver.com/mnews/article/020/000...  2021.01.01  오후 9:39   \n",
              "1     https://n.news.naver.com/mnews/article/001/001...  2021.01.01  오후 9:14   \n",
              "2     https://n.news.naver.com/mnews/article/119/000...  2021.01.01  오후 9:04   \n",
              "3     https://n.news.naver.com/mnews/article/421/000...  2021.01.01  오후 7:09   \n",
              "4     https://n.news.naver.com/mnews/article/421/000...  2021.01.01  오후 4:07   \n",
              "...                                                 ...         ...      ...   \n",
              "2154  https://n.news.naver.com/mnews/article/003/001...  2021.02.28  오전 6:00   \n",
              "2155  https://n.news.naver.com/mnews/article/001/001...  2021.02.28  오전 5:51   \n",
              "2156  https://n.news.naver.com/mnews/article/003/001...  2021.02.28  오전 5:00   \n",
              "2157  https://n.news.naver.com/mnews/article/003/001...  2021.02.28  오전 5:00   \n",
              "2158  https://n.news.naver.com/mnews/article/003/001...  2021.02.28  오전 5:00   \n",
              "\n",
              "     company                                           contents  \n",
              "0       동아일보  \\n\\n\\n\\n\\n\\n2021년 신축년(辛丑年) 새해 첫 날인 1일 오후 서울 중구...  \n",
              "1       연합뉴스  \\n\\n\\n\\n\\n\\n유시민 노무현재단 이사장사람사는세상노무현재단 유튜브 캡처 [재...  \n",
              "2       데일리안  \\n\\n\\n\\n\\n\\nⓒ한만두식품한만두식품이 다가오는 설 명절을 맞아 2021 설 ...  \n",
              "3        뉴스1  \\n\\n'수도권 2.5단계/비수도권 2단계', '연말연시 특별방역' 3일 시한 추가...  \n",
              "4        뉴스1  \\n\\n외국인 공항 입국 8일부터, 항만 승선 15일부터 음성 확인서 의무화PCR음...  \n",
              "...      ...                                                ...  \n",
              "2154     뉴시스  \\n\\n겨울철 의류 관리하는 법\\n\\n\\n\\n[서울=뉴시스] (사진=애경산업 제공)...  \n",
              "2155    연합뉴스  \\n\\n학계, 증세엔 공감…부자증세·보편증세 의견 갈려\\n\\n\\n\\n[그래픽] 국가...  \n",
              "2156     뉴시스  \\n\\n\\n\\n\\n\\n[서울=뉴시스] 손정빈 기자 = 롯데하이마트가 온라인쇼핑몰에서...  \n",
              "2157     뉴시스  \\n\\n1974년 출시후 국내 1위 가공우유한국적 정서 담은 용기가 브랜드 상징아이...  \n",
              "2158     뉴시스  \\n\\n\\n\\n\\n\\n[서울=뉴시스] 손정빈 기자 = 홈플러스가 창립 24주년을 기...  \n",
              "\n",
              "[4507 rows x 6 columns]"
            ]
          },
          "execution_count": 148,
          "metadata": {},
          "output_type": "execute_result"
        }
      ],
      "source": [
        "mon1=pd.read_csv('month1.csv')\n",
        "mon2=pd.read_csv('month2.csv')\n",
        "mon3=pd.read_csv('month3.csv')\n",
        "print(mon1.shape)\n",
        "print(mon2.shape)\n",
        "print(mon3.shape)\n",
        "pd.concat([mon1,mon2])"
      ]
    },
    {
      "cell_type": "code",
      "execution_count": null,
      "metadata": {
        "id": "_8XMcpQu4xZq",
        "outputId": "663efe5d-c102-4d4e-f940-5159c99b7b93"
      },
      "outputs": [
        {
          "data": {
            "text/plain": [
              "4507"
            ]
          },
          "execution_count": 142,
          "metadata": {},
          "output_type": "execute_result"
        }
      ],
      "source": [
        "2348+2159"
      ]
    },
    {
      "cell_type": "code",
      "execution_count": null,
      "metadata": {
        "id": "_musWSol4xZr"
      },
      "outputs": [],
      "source": []
    },
    {
      "cell_type": "code",
      "execution_count": null,
      "metadata": {
        "id": "sOPwDgFM4xZs"
      },
      "outputs": [],
      "source": []
    },
    {
      "cell_type": "code",
      "execution_count": null,
      "metadata": {
        "id": "rd84-i5o4xZt"
      },
      "outputs": [],
      "source": []
    },
    {
      "cell_type": "code",
      "execution_count": null,
      "metadata": {
        "id": "_RDu73iw4xZu"
      },
      "outputs": [],
      "source": []
    },
    {
      "cell_type": "code",
      "execution_count": null,
      "metadata": {
        "id": "Sez5yTzr4xZu"
      },
      "outputs": [],
      "source": []
    },
    {
      "cell_type": "code",
      "execution_count": null,
      "metadata": {
        "id": "wbaEz51J4xZu"
      },
      "outputs": [],
      "source": []
    },
    {
      "cell_type": "code",
      "execution_count": null,
      "metadata": {
        "id": "GKlJ78Pw4xZv"
      },
      "outputs": [],
      "source": []
    },
    {
      "cell_type": "code",
      "execution_count": null,
      "metadata": {
        "id": "mBCEOUQZ4xZv"
      },
      "outputs": [],
      "source": []
    },
    {
      "cell_type": "code",
      "execution_count": null,
      "metadata": {
        "id": "0rEzDlWC4xZw"
      },
      "outputs": [],
      "source": []
    },
    {
      "cell_type": "code",
      "execution_count": null,
      "metadata": {
        "id": "3pNDOkCM4xZw"
      },
      "outputs": [],
      "source": []
    },
    {
      "cell_type": "code",
      "execution_count": null,
      "metadata": {
        "id": "OAlxIw6X4xZx"
      },
      "outputs": [],
      "source": []
    }
  ],
  "metadata": {
    "kernelspec": {
      "display_name": "Python 3",
      "language": "python",
      "name": "python3"
    },
    "language_info": {
      "codemirror_mode": {
        "name": "ipython",
        "version": 3
      },
      "file_extension": ".py",
      "mimetype": "text/x-python",
      "name": "python",
      "nbconvert_exporter": "python",
      "pygments_lexer": "ipython3",
      "version": "3.7.4"
    },
    "colab": {
      "provenance": []
    }
  },
  "nbformat": 4,
  "nbformat_minor": 0
}