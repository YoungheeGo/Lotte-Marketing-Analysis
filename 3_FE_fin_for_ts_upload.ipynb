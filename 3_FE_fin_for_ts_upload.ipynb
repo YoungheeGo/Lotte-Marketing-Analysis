{
  "nbformat": 4,
  "nbformat_minor": 0,
  "metadata": {
    "colab": {
      "provenance": [],
      "collapsed_sections": [],
      "toc_visible": true,
      "authorship_tag": "ABX9TyO3+SoswmGn+b1+JWpG+l3B"
    },
    "kernelspec": {
      "name": "python3",
      "display_name": "Python 3"
    },
    "language_info": {
      "name": "python"
    }
  },
  "cells": [
    {
      "cell_type": "code",
      "execution_count": null,
      "metadata": {
        "id": "zHYCe2ZddqOe"
      },
      "outputs": [],
      "source": [
        "from google.colab import drive\n",
        "drive.mount('/content/drive')"
      ]
    },
    {
      "cell_type": "code",
      "source": [
        "ls"
      ],
      "metadata": {
        "id": "RllHRATreUT6"
      },
      "execution_count": null,
      "outputs": []
    },
    {
      "cell_type": "code",
      "source": [
        "import pandas as pd\n",
        "import numpy as np\n",
        "import matplotlib.pyplot as plt\n",
        "import seaborn as sns\n",
        "from datetime import date\n",
        "import math\n",
        "from PIL import Image\n",
        "%matplotlib inline\n",
        "\n",
        "from tqdm import tqdm_notebook as tqdm"
      ],
      "metadata": {
        "id": "fiROFCC9ebqq"
      },
      "execution_count": null,
      "outputs": []
    },
    {
      "cell_type": "code",
      "source": [],
      "metadata": {
        "id": "s3w_TCTA7djc"
      },
      "execution_count": null,
      "outputs": []
    },
    {
      "cell_type": "markdown",
      "source": [
        "# Preprocessing"
      ],
      "metadata": {
        "id": "pi0NjRnThZTA"
      }
    },
    {
      "cell_type": "code",
      "source": [
        "train=pd.read_csv('train.csv')\n",
        "train.head()"
      ],
      "metadata": {
        "id": "bz-Uztyy5Zpz"
      },
      "execution_count": null,
      "outputs": []
    },
    {
      "cell_type": "code",
      "source": [
        "train.dtypes"
      ],
      "metadata": {
        "id": "1RVTKROQ3pb_"
      },
      "execution_count": null,
      "outputs": []
    },
    {
      "cell_type": "code",
      "source": [
        "train.shape"
      ],
      "metadata": {
        "id": "MaI_saU03pYB"
      },
      "execution_count": null,
      "outputs": []
    },
    {
      "cell_type": "code",
      "source": [
        "test=pd.read_csv('test.csv')\n",
        "test.head()"
      ],
      "metadata": {
        "id": "O6e9aImE3pU4"
      },
      "execution_count": null,
      "outputs": []
    },
    {
      "cell_type": "code",
      "source": [
        "test.dtypes"
      ],
      "metadata": {
        "id": "LdsqPTKZ3pRN"
      },
      "execution_count": null,
      "outputs": []
    },
    {
      "cell_type": "code",
      "source": [
        "test.shape"
      ],
      "metadata": {
        "id": "hATN47pb32Zl"
      },
      "execution_count": null,
      "outputs": []
    },
    {
      "cell_type": "code",
      "source": [
        "train['month'].unique()"
      ],
      "metadata": {
        "id": "kx1uGipP32VX"
      },
      "execution_count": null,
      "outputs": []
    },
    {
      "cell_type": "code",
      "source": [
        "sorted(test['month'].unique())"
      ],
      "metadata": {
        "id": "FSvZ2vyC36lr"
      },
      "execution_count": null,
      "outputs": []
    },
    {
      "cell_type": "code",
      "source": [
        "train[train['month']==12].sort_values('cust')"
      ],
      "metadata": {
        "id": "BgmHHvvY36i_"
      },
      "execution_count": null,
      "outputs": []
    },
    {
      "cell_type": "code",
      "source": [
        "train[train['cust']=='M003213142']"
      ],
      "metadata": {
        "id": "fBsEmBPE36gY"
      },
      "execution_count": null,
      "outputs": []
    },
    {
      "cell_type": "code",
      "source": [
        "train[train['cust']=='M011706752']"
      ],
      "metadata": {
        "id": "71sdXMyS36eE"
      },
      "execution_count": null,
      "outputs": []
    },
    {
      "cell_type": "code",
      "source": [],
      "metadata": {
        "id": "1Omfy5K336bZ"
      },
      "execution_count": null,
      "outputs": []
    },
    {
      "cell_type": "code",
      "source": [],
      "metadata": {
        "id": "WlwsvJdd3pOv"
      },
      "execution_count": null,
      "outputs": []
    },
    {
      "cell_type": "markdown",
      "source": [
        "# FE\n",
        "- |해당월 소비 금액 - 월별 평균 소비 금액\n",
        "-  |해당 제휴사 소비 금액 - 제휴사별 평균 소비 금액\n",
        "- | 해당 월, 제휴사 소비 금액 - 제휴사별 , 월별 평균 소비 금액\n",
        "\n",
        "</br>\n",
        "\n",
        "\n",
        "- 거주 지역 코드와 구매 지역 다른지\n",
        "- 주말, 주중\n",
        "- 직전 달 소비 금액\n",
        "- 고객 예측 소득\n",
        "- 고객 가치"
      ],
      "metadata": {
        "id": "TGS0xwXfren9"
      }
    },
    {
      "cell_type": "markdown",
      "source": [
        "## Month_diff"
      ],
      "metadata": {
        "id": "QyUW-f0GzCpN"
      }
    },
    {
      "cell_type": "code",
      "source": [
        "mon=train.groupby('month')['buying'].mean().reset_index()\n",
        "mon.rename(columns={'buying':'buy_mean'},inplace=True)\n",
        "mon"
      ],
      "metadata": {
        "id": "OYWX2HWI4uam"
      },
      "execution_count": null,
      "outputs": []
    },
    {
      "cell_type": "code",
      "source": [
        "# train\n",
        "mrg=pd.merge(train,mon,on='month',how='left')\n",
        "mrg['mon_buy_diff']=abs(mrg['buying']-mrg['buy_mean_'])\n",
        "mrg"
      ],
      "metadata": {
        "id": "NY5OqLjp45HA"
      },
      "execution_count": null,
      "outputs": []
    },
    {
      "cell_type": "code",
      "source": [
        "train['month_diff']=mrg['mon_buy_diff']\n",
        "train.head()"
      ],
      "metadata": {
        "id": "k9kbvbxO45En"
      },
      "execution_count": null,
      "outputs": []
    },
    {
      "cell_type": "code",
      "source": [
        "# test : 요약 통계량 값은 train데이터에서만 사용합니다\n",
        "# 왜냐하면 test데이터는 unknown값이기 때문! -> data leakage\n",
        "mrg=pd.merge(test,mon,on='de_month',how='left')\n",
        "mrg['mon_buy_diff']=abs(mrg['buy_am']-mrg['buy_mean_'])\n",
        "mrg"
      ],
      "metadata": {
        "id": "6xigxaTo5GRp"
      },
      "execution_count": null,
      "outputs": []
    },
    {
      "cell_type": "code",
      "source": [
        "test['month_diff']=mrg['mon_buy_diff']\n",
        "test.head()"
      ],
      "metadata": {
        "id": "bLaTrHpq5GJ7"
      },
      "execution_count": null,
      "outputs": []
    },
    {
      "cell_type": "markdown",
      "source": [
        "## cop_diff"
      ],
      "metadata": {
        "id": "8hYVSwxm1LLS"
      }
    },
    {
      "cell_type": "code",
      "source": [
        "co=train.groupby('cop')['buying'].mean().reset_index()\n",
        "co.rename(columns={'buying':'buy_mean_'},inplace=True)\n",
        "co"
      ],
      "metadata": {
        "id": "RiiiXNic6hmO"
      },
      "execution_count": null,
      "outputs": []
    },
    {
      "cell_type": "code",
      "source": [
        "# train\n",
        "mrg2=pd.merge(train,co,on='cop',how='left')\n",
        "mrg2['co_buy_diff']=abs(mrg2['buy_am']-mrg2['buy_mean_'])\n",
        "mrg2"
      ],
      "metadata": {
        "id": "F8yXpX606hjQ"
      },
      "execution_count": null,
      "outputs": []
    },
    {
      "cell_type": "code",
      "source": [
        "train['cop_diff']=mrg2['co_buy_diff']\n",
        "train.head()"
      ],
      "metadata": {
        "id": "T8iqURVd6hg_"
      },
      "execution_count": null,
      "outputs": []
    },
    {
      "cell_type": "code",
      "source": [
        "# test\n",
        "mrg2=pd.merge(test,co,on='cop',how='left')\n",
        "mrg2['co_buy_diff']=abs(mrg2['buy_am']-mrg2['buy_mean_'])\n",
        "mrg2"
      ],
      "metadata": {
        "id": "iE2dfIxg6v2o"
      },
      "execution_count": null,
      "outputs": []
    },
    {
      "cell_type": "code",
      "source": [
        "test['cop_diff']=mrg2['co_buy_diff']\n",
        "test.head()"
      ],
      "metadata": {
        "id": "c785WOMO6vnk"
      },
      "execution_count": null,
      "outputs": []
    },
    {
      "cell_type": "markdown",
      "source": [
        "## c_m_diff"
      ],
      "metadata": {
        "id": "791_aHI72gDF"
      }
    },
    {
      "cell_type": "code",
      "source": [
        "cm=train.groupby(['cop','month'])['buying'].mean().reset_index()\n",
        "cm.rename(columns={'buying':'buy_mean_'},inplace=True)\n",
        "cm.head()"
      ],
      "metadata": {
        "id": "GFcq-OIc7GsK"
      },
      "execution_count": null,
      "outputs": []
    },
    {
      "cell_type": "code",
      "source": [
        "# train\n",
        "mrg3=pd.merge(train,cm,on=['cop','month'],how='left')\n",
        "mrg3['cm_buy_diff']=mrg3['buying']-mrg3['buy_mean_']\n",
        "mrg3"
      ],
      "metadata": {
        "id": "HVjZVDZK7Gf_"
      },
      "execution_count": null,
      "outputs": []
    },
    {
      "cell_type": "code",
      "source": [
        "train['cm_diff']=mrg3['cm_buy_diff']\n",
        "train.head()"
      ],
      "metadata": {
        "id": "Hs4N8UR07GLn"
      },
      "execution_count": null,
      "outputs": []
    },
    {
      "cell_type": "code",
      "source": [
        "# test\n",
        "mrg3=pd.merge(test,cm,on=['cop','month'],how='left')\n",
        "mrg3['cm_buy_diff']=mrg3['buying']-mrg3['buy_mean_']\n",
        "mrg3"
      ],
      "metadata": {
        "id": "kwAkT0zD7GFL"
      },
      "execution_count": null,
      "outputs": []
    },
    {
      "cell_type": "code",
      "source": [
        "test['cm_diff']=mrg3['cm_buy_diff']\n",
        "test.head()"
      ],
      "metadata": {
        "id": "iOZjUIWk7F9X"
      },
      "execution_count": null,
      "outputs": []
    },
    {
      "cell_type": "code",
      "source": [
        "train.shape"
      ],
      "metadata": {
        "id": "xj7hI6-h7FsA"
      },
      "execution_count": null,
      "outputs": []
    },
    {
      "cell_type": "code",
      "source": [
        "test.shape"
      ],
      "metadata": {
        "id": "IBrwLt7X7FiG"
      },
      "execution_count": null,
      "outputs": []
    },
    {
      "cell_type": "code",
      "source": [],
      "metadata": {
        "id": "atjHvSiC7FZ6"
      },
      "execution_count": null,
      "outputs": []
    },
    {
      "cell_type": "code",
      "source": [],
      "metadata": {
        "id": "_K47pwRI7FWF"
      },
      "execution_count": null,
      "outputs": []
    },
    {
      "cell_type": "code",
      "source": [],
      "metadata": {
        "id": "7qOuS5lo2Z4g"
      },
      "execution_count": null,
      "outputs": []
    },
    {
      "cell_type": "markdown",
      "source": [
        "## Zon diff"
      ],
      "metadata": {
        "id": "Q7kwiELq5ry4"
      }
    },
    {
      "cell_type": "code",
      "source": [
        "# 거주지와 소비지 다른지\n",
        "train['loc_diff']=[1 if val!=train['loc_hlv'][num] else 0 for num,val in enumerate(train['loc_resid'])]\n",
        "test['loc_diff']=[1 if val!=test['loc_hlv'][num] else 0 for num,val in enumerate(test['loc_resid'])]"
      ],
      "metadata": {
        "id": "Mfc8E225reNH"
      },
      "execution_count": null,
      "outputs": []
    },
    {
      "cell_type": "code",
      "source": [],
      "metadata": {
        "id": "lmhdtENv7t55"
      },
      "execution_count": null,
      "outputs": []
    },
    {
      "cell_type": "code",
      "source": [],
      "metadata": {
        "id": "s37HPP-z7t1b"
      },
      "execution_count": null,
      "outputs": []
    },
    {
      "cell_type": "markdown",
      "source": [
        "## weekend"
      ],
      "metadata": {
        "id": "UlgACm5y5vXC"
      }
    },
    {
      "cell_type": "code",
      "source": [
        "# train\n",
        "dt=pd.to_datetime(train['fin_dt'],format=\"%Y%m%d\")\n",
        "wk_num=dt.apply(lambda x:date.weekday(x))\n",
        "wk_num"
      ],
      "metadata": {
        "id": "lG2WYGBa7xtO"
      },
      "execution_count": null,
      "outputs": []
    },
    {
      "cell_type": "code",
      "source": [
        "weekend=[0 if i<5 else 1 for i in wk_num]\n",
        "train['weekend']=weekend"
      ],
      "metadata": {
        "id": "LydKDjOu8A1R"
      },
      "execution_count": null,
      "outputs": []
    },
    {
      "cell_type": "code",
      "source": [
        "# test\n",
        "dt=pd.to_datetime(test['fin_dt'],format=\"%Y%m%d\")\n",
        "wk_num=dt.apply(lambda x:date.weekday(x))\n",
        "wk_num"
      ],
      "metadata": {
        "id": "oin2064m8FaE"
      },
      "execution_count": null,
      "outputs": []
    },
    {
      "cell_type": "code",
      "source": [
        "weekend=[0 if i<5 else 1 for i in wk_num]\n",
        "test['weekend']=weekend"
      ],
      "metadata": {
        "id": "MLP0Y4VE8Eq7"
      },
      "execution_count": null,
      "outputs": []
    },
    {
      "cell_type": "code",
      "source": [
        "train.shape"
      ],
      "metadata": {
        "id": "0OYRQVvh8RSM"
      },
      "execution_count": null,
      "outputs": []
    },
    {
      "cell_type": "code",
      "source": [
        "test.shape"
      ],
      "metadata": {
        "id": "5pN8wGXT8QTv"
      },
      "execution_count": null,
      "outputs": []
    },
    {
      "cell_type": "code",
      "source": [],
      "metadata": {
        "id": "7SpUr8MZ8QPi"
      },
      "execution_count": null,
      "outputs": []
    },
    {
      "cell_type": "code",
      "source": [],
      "metadata": {
        "id": "YNOJppwi8QDK"
      },
      "execution_count": null,
      "outputs": []
    },
    {
      "cell_type": "code",
      "source": [],
      "metadata": {
        "id": "od4aVyuD8Eo1"
      },
      "execution_count": null,
      "outputs": []
    },
    {
      "cell_type": "markdown",
      "source": [
        "## Lag_buy \n",
        "- 직전달 소비 금액\n",
        "- 만약, 하나의 고객이 모든 달의 결제 데이터가 없을 경우, 직전달은 어떤 달을 넣어야하나?\n",
        "  - 1) 결측치\n",
        "  - 2) 가장 최근인 월로 대체 -> 이 경우 채택\n"
      ],
      "metadata": {
        "id": "gHUginuhJhyS"
      }
    },
    {
      "cell_type": "code",
      "source": [
        "tot=pd.concat([train,test]).reset_index()\n",
        "tot"
      ],
      "metadata": {
        "id": "GK10yXLc-E3H"
      },
      "execution_count": null,
      "outputs": []
    },
    {
      "cell_type": "code",
      "source": [
        "buy_month=tot.sort_values(['month','cust'],ascending=True).groupby(['cust','month'])['buying'].sum().reset_index()\n",
        "sh=buy_month[['cust','buying']]"
      ],
      "metadata": {
        "id": "6aszkF3-_Ars"
      },
      "execution_count": null,
      "outputs": []
    },
    {
      "cell_type": "code",
      "source": [
        "# train\n",
        "# 고객별 이전 달 소비 금액\n",
        "buy_month=tot.sort_values(['month','cust'],ascending=True).groupby(['cust','month'])['buying'].sum().reset_index()\n",
        "sh=buy_month[['cust','buying']]\n",
        "buy_month['buy_mnt']=sh['buying']\n",
        "bm=buy_month[['cust','month','buy_mnt']]\n",
        "train1=pd.merge(train,bm,on=['cust','month'],how='left')\n",
        "train1"
      ],
      "metadata": {
        "id": "LIjhCiAr8kjI"
      },
      "execution_count": null,
      "outputs": []
    },
    {
      "cell_type": "code",
      "source": [
        "# test\n",
        "# 고객별 이전 달 소비 금액\n",
        "test1=pd.merge(test,bm,on=['cust','month'],how='left')\n",
        "test1.head()"
      ],
      "metadata": {
        "id": "Y50bMXg58kfj"
      },
      "execution_count": null,
      "outputs": []
    },
    {
      "cell_type": "code",
      "source": [
        "train1.isna().sum()"
      ],
      "metadata": {
        "id": "wrnTmc_o_V11"
      },
      "execution_count": null,
      "outputs": []
    },
    {
      "cell_type": "code",
      "source": [
        "test1.isna().sum()"
      ],
      "metadata": {
        "id": "7QVmtg6P_Vyr"
      },
      "execution_count": null,
      "outputs": []
    },
    {
      "cell_type": "code",
      "source": [
        "train1.shape"
      ],
      "metadata": {
        "id": "Hdr-RypM_VuY"
      },
      "execution_count": null,
      "outputs": []
    },
    {
      "cell_type": "code",
      "source": [
        "test1.shape"
      ],
      "metadata": {
        "id": "WMZr0PH0_Vrc"
      },
      "execution_count": null,
      "outputs": []
    },
    {
      "cell_type": "code",
      "source": [],
      "metadata": {
        "id": "KKau9gkr8kSH"
      },
      "execution_count": null,
      "outputs": []
    },
    {
      "cell_type": "code",
      "source": [],
      "metadata": {
        "id": "P-SWL00R8kP1"
      },
      "execution_count": null,
      "outputs": []
    },
    {
      "cell_type": "code",
      "source": [],
      "metadata": {
        "id": "JJWu9HXv8kMl"
      },
      "execution_count": null,
      "outputs": []
    },
    {
      "cell_type": "code",
      "source": [],
      "metadata": {
        "id": "Pkq60nXa8kJA"
      },
      "execution_count": null,
      "outputs": []
    },
    {
      "cell_type": "markdown",
      "source": [
        "## Buy level & Lag_income\n",
        "- 고객 예측 소득\n",
        "  - 직전 달 소비액을 통한 이전 달 소득 추정값 구하기\n",
        "  - https://kostat.go.kr/portal/korea/kor_nw/1/4/3/index.board?bmode=read&bSeq=&aSeq=389709&pageNo=1&rowNum=10&navCount=10&currPg=&searchInfo=&sTarget=title&sTxt=\n",
        "  - https://www.index.go.kr/unify/idx-info.do?idxCd=4229\n",
        "  - 아래의 표를 이용해 고객의 월별 소비액을 구하고, 소득 분위에 따른 월별 소비액을 구해 그 값의 차의 절댓값이 가장 적은 분위수에 할당하기"
      ],
      "metadata": {
        "id": "PJNJ_wvBRaef"
      }
    },
    {
      "cell_type": "markdown",
      "source": [
        "- 소비액"
      ],
      "metadata": {
        "id": "FtbQny_xAuoA"
      }
    },
    {
      "cell_type": "code",
      "source": [
        "############ 소비액 ############\n",
        "# 2021년 기준 평균 가구원 수 2.3명 -> 2.3으로 나누기\n",
        "# 1분기 소비액\n",
        "# [1분위, 2분위, 3분위, 4분위, 5분위]\n",
        "quart1=[1125000,1623000,3618000,2845000,4282000]\n",
        "quart1=[round(i/2.3,4) for i in quart1]\n",
        "#quart1_mean=2419000\n",
        "\n",
        "# 2분기 개인별 소비액\n",
        "quart2=[1153000, 1674000, 2194000, 2915000, 4435000]\n",
        "qurt2=[round(i/2.3,4) for i in quart2]\n",
        "#quart2_mean=2475000\n",
        "\n",
        "# 3분기 개인별 소비액\n",
        "quart3=[1178000, 1736000, 2355000, 3088000, 4361000]\n",
        "quart3=[round(i/2.3,4) for i in quart3]\n",
        "#quart3_mean=2544000\n",
        "\n",
        "# 4분기 개인별 소비액\n",
        "quart4=[1195000,1759000,2383000,3131000,4266000]\n",
        "quart4=[round(i/2.3,4) for i in quart4]\n",
        "#quart4_mean=2547000"
      ],
      "metadata": {
        "id": "9GWuouh6spTc"
      },
      "execution_count": null,
      "outputs": []
    },
    {
      "cell_type": "code",
      "source": [
        "# 분기 -> 한달\n",
        "\n",
        "# 1,2,3\n",
        "q1=[round(i/3,4) for i in quart1]\n",
        "\n",
        "# 4,5,6\n",
        "q2=[round(i/3,4) for i in quart2]\n",
        "\n",
        "# 7,8,9\n",
        "q3=[round(i/3,4) for i in quart3]\n",
        "\n",
        "# 10,11,12\n",
        "q4=[round(i/3,4) for i in quart4]"
      ],
      "metadata": {
        "id": "igtlkXmJspPl"
      },
      "execution_count": null,
      "outputs": []
    },
    {
      "cell_type": "code",
      "source": [
        "print(q1)\n",
        "print(q2)\n",
        "print(q3)\n",
        "print(q4)"
      ],
      "metadata": {
        "id": "HM-Cc61dvrE4"
      },
      "execution_count": null,
      "outputs": []
    },
    {
      "cell_type": "code",
      "source": [
        "lst=q1*3\n",
        "lst.extend(q2*3)\n",
        "lst.extend(q3*3)\n",
        "lst.extend(q4*3)\n",
        "lst[:10]"
      ],
      "metadata": {
        "id": "8OO9R1hEexVP"
      },
      "execution_count": null,
      "outputs": []
    },
    {
      "cell_type": "code",
      "source": [
        "len(lst)"
      ],
      "metadata": {
        "id": "K8vgZ20iudY4"
      },
      "execution_count": null,
      "outputs": []
    },
    {
      "cell_type": "code",
      "source": [
        "buy_st=pd.DataFrame({'month':[i for i in range(1,13) for _ in range(5)], # 달\n",
        "              'buy_level':[i for _ in range(12) for i in range(1,6)], # 분위수\n",
        "              'buy_mean':lst})\n",
        "buy_st[:5]"
      ],
      "metadata": {
        "id": "8HuSXvCOuvWE"
      },
      "execution_count": null,
      "outputs": []
    },
    {
      "cell_type": "code",
      "source": [
        "buy_month_=buy_month.sort_values('de_month').reset_index(drop=True)\n",
        "buy_month_"
      ],
      "metadata": {
        "id": "4OE4nN0z167i"
      },
      "execution_count": null,
      "outputs": []
    },
    {
      "cell_type": "code",
      "source": [
        "buy_st[:5]"
      ],
      "metadata": {
        "id": "mBBSSJMqPL-0"
      },
      "execution_count": null,
      "outputs": []
    },
    {
      "cell_type": "code",
      "source": [
        "buy_month_"
      ],
      "metadata": {
        "id": "dJYvPQqyWtCP"
      },
      "execution_count": null,
      "outputs": []
    },
    {
      "cell_type": "code",
      "source": [
        "level=[]\n",
        "for mon in range(1,13):\n",
        "  t=list(buy_month_[buy_month_['de_month']==mon]['buy_am'])\n",
        "  st=list(buy_st[buy_st['month']==mon]['buy_mean'])\n",
        "\n",
        "  for i in t:\n",
        "    l=[]\n",
        "    for j in st:\n",
        "      l.append(abs(i-j))\n",
        "    level.append(l.index(min(l))+1)"
      ],
      "metadata": {
        "id": "EVNb3u9nl_0I"
      },
      "execution_count": null,
      "outputs": []
    },
    {
      "cell_type": "code",
      "source": [
        "[level.count(i) for i in range(1,6)]"
      ],
      "metadata": {
        "id": "XjRs3SwL_5nT"
      },
      "execution_count": null,
      "outputs": []
    },
    {
      "cell_type": "code",
      "source": [
        "#[level.count(i) for i in range(1,6)]"
      ],
      "metadata": {
        "id": "F4GCBMVf2TXv"
      },
      "execution_count": null,
      "outputs": []
    },
    {
      "cell_type": "code",
      "source": [
        "plt.hist(level)"
      ],
      "metadata": {
        "id": "dt_ItY3jiPaM"
      },
      "execution_count": null,
      "outputs": []
    },
    {
      "cell_type": "code",
      "source": [
        "buy_month_['buy_level']=level"
      ],
      "metadata": {
        "id": "0Gw7SsqdnDDx"
      },
      "execution_count": null,
      "outputs": []
    },
    {
      "cell_type": "code",
      "source": [
        "buy_month_"
      ],
      "metadata": {
        "id": "BujRXWESnDB0"
      },
      "execution_count": null,
      "outputs": []
    },
    {
      "cell_type": "markdown",
      "source": [
        "- 소득액\n",
        "\n",
        "- 왜 /2.3 안하나요? \n",
        "  - 모든 가구 구성원이 수입을 버는 것이 아니기 때문에 가구 소득을 개인 소득으로 생각합니다.\n",
        "  - 앞서 소비액은 모든 가구 구성원이 소비를 할 수 있기 때문에 /2.3 하였음."
      ],
      "metadata": {
        "id": "viJ22soyAy-d"
      }
    },
    {
      "cell_type": "code",
      "source": [
        "############ Income ############\n",
        "# 1분기 소득\n",
        "quart1=[910000,2301000,3618000,5370000,9714000]\n",
        "#quart1=[round(i/2.3,4) for i in quart1]\n",
        "\n",
        "# 2분기\n",
        "quart2=[966000,2365000,3661000,5192000,9241000]\n",
        "#qurt2=[round(i/2.3,4) for i in quart2]\n",
        "\n",
        "# 3분기\n",
        "quart3=[1142000,2647000,4018000,5792000,10037000]\n",
        "#quart3=[round(i/2.3,4) for i in quart3]\n",
        "\n",
        "# 4분기\n",
        "quart4=[1058000,2531000,3879000,5612000,10130000]\n",
        "#quart4=[round(i/2.3,4) for i in quart4]\n"
      ],
      "metadata": {
        "id": "77h1i5-jnC_n"
      },
      "execution_count": null,
      "outputs": []
    },
    {
      "cell_type": "code",
      "source": [
        "lst=quart1*3\n",
        "#lst\n",
        "lst.extend(quart2*3)\n",
        "lst.extend(quart3*3)\n",
        "lst.extend(quart4*3)\n",
        "lst[:10]"
      ],
      "metadata": {
        "id": "Pj2_VswPnBx5"
      },
      "execution_count": null,
      "outputs": []
    },
    {
      "cell_type": "code",
      "source": [
        "incom_st=pd.DataFrame({'de_month':[i for i in range(1,13) for _ in range(5)], \n",
        "                       'buy_level':[i for _ in range(12) for i in range(1,6)], \n",
        "                       'income_mean':lst})\n",
        "incom_st[:5]"
      ],
      "metadata": {
        "id": "YEffoxK7nBvp"
      },
      "execution_count": null,
      "outputs": []
    },
    {
      "cell_type": "code",
      "source": [
        "incom_st[::][:5]"
      ],
      "metadata": {
        "id": "NQJb9O0-ruQN"
      },
      "execution_count": null,
      "outputs": []
    },
    {
      "cell_type": "code",
      "source": [
        "buy_month_=pd.merge(buy_month_,incom_st,on=['de_month','buy_level'],how='left')\n",
        "buy_month_"
      ],
      "metadata": {
        "id": "skhO060vnBtI"
      },
      "execution_count": null,
      "outputs": []
    },
    {
      "cell_type": "code",
      "source": [
        "buy_month1=buy_month_.sort_values(['cust','de_month']).reset_index(drop=True)\n",
        "buy_month1[:5]"
      ],
      "metadata": {
        "id": "lOhMT5dbnBof"
      },
      "execution_count": null,
      "outputs": []
    },
    {
      "cell_type": "code",
      "source": [
        "sh1=buy_month1[['cust','income_mean']]#.groupby(['cust']).shift(1)\n",
        "sh1\n",
        "#sh=buy_month[['cust','buy_am']].groupby('cust').shift(1)"
      ],
      "metadata": {
        "id": "bJEfSUUB3CBT"
      },
      "execution_count": null,
      "outputs": []
    },
    {
      "cell_type": "code",
      "source": [
        "buy_month1['lag_income']=sh1['income_mean']\n",
        "buy_month1"
      ],
      "metadata": {
        "id": "S1XksMIu3B9l"
      },
      "execution_count": null,
      "outputs": []
    },
    {
      "cell_type": "code",
      "source": [
        "buy_month1[::][:12]"
      ],
      "metadata": {
        "id": "wFElZKC63wNO"
      },
      "execution_count": null,
      "outputs": []
    },
    {
      "cell_type": "code",
      "source": [
        "buy_month1.rename(columns={'lag_income':'income_mnt'},inplace=True)"
      ],
      "metadata": {
        "id": "vBRgc4BDIEL6"
      },
      "execution_count": null,
      "outputs": []
    },
    {
      "cell_type": "code",
      "source": [
        "buy_month1[:5]"
      ],
      "metadata": {
        "id": "WfDfPpsgIKy1"
      },
      "execution_count": null,
      "outputs": []
    },
    {
      "cell_type": "code",
      "source": [
        "# 필요한 컬럼 추출\n",
        "buy_month2=buy_month1[['cust','de_month','buy_level','buy_mnt','income_mnt']]\n",
        "buy_month2"
      ],
      "metadata": {
        "id": "gK0rGXhc4Eaq"
      },
      "execution_count": null,
      "outputs": []
    },
    {
      "cell_type": "code",
      "source": [
        "train2=pd.merge(train,buy_month2,on=['cust','de_month'],how='left')\n",
        "test2=pd.merge(test,buy_month2,on=['cust','de_month'],how='left')"
      ],
      "metadata": {
        "id": "3hJAsWcz3wJd"
      },
      "execution_count": null,
      "outputs": []
    },
    {
      "cell_type": "code",
      "source": [
        "train2.shape"
      ],
      "metadata": {
        "id": "xLo4oPV33wGM"
      },
      "execution_count": null,
      "outputs": []
    },
    {
      "cell_type": "code",
      "source": [
        "test2.shape"
      ],
      "metadata": {
        "id": "J4Exzc7743G2"
      },
      "execution_count": null,
      "outputs": []
    },
    {
      "cell_type": "markdown",
      "source": [
        "# CLTV (종속변수)\n",
        "- 종속변수!\n",
        "- https://www.openads.co.kr/content/contentDetail?contsId=5505\n",
        "- 한달 단위\n",
        "- 이탈률 및 매출은 제휴사 별로 다르게 계산"
      ],
      "metadata": {
        "id": "kMJJGOaN6Gp8"
      }
    },
    {
      "cell_type": "code",
      "source": [
        "tot['cop'].unique()\n",
        "# A: 유통사\n",
        "# B: 숙박업종\n",
        "# C: 엔터테인먼트\n",
        "# D: F&B\n",
        "# E: 렌탈업종"
      ],
      "metadata": {
        "id": "-Os2h8CMBIKO"
      },
      "execution_count": null,
      "outputs": []
    },
    {
      "cell_type": "code",
      "source": [
        "# 방문 횟수 추가\n",
        "# 이는 나중에 groupby해서 sum 할 때 하나의 고객이 제휴사를 몇 번 방문했는 지 알 수 있음\n",
        "tot['vst']=1 \n",
        "tot.head()"
      ],
      "metadata": {
        "id": "jDIpFWW0A-Xs"
      },
      "execution_count": null,
      "outputs": []
    },
    {
      "cell_type": "code",
      "source": [
        "### 평균 구매 가치 (Average purchase value) ###\n",
        "# 총매출 / 구매횟수\n",
        "cop_month=tot.groupby(['cop','month']).agg({'cust':lambda x:len(x.unique()),\n",
        "                                                'buy_ct':'sum','buying':'sum','vst':'sum'}).reset_index()\n",
        "cop_month['apv']=cop_month['buying']/cop_month['vst']\n",
        "cop_month[:10]"
      ],
      "metadata": {
        "id": "JcSyBXbmA-Vn"
      },
      "execution_count": null,
      "outputs": []
    },
    {
      "cell_type": "code",
      "source": [
        "### 평균 구매 빈도율 (Average purchase frequency rate) ###\n",
        "# 총 구매 횟수 / 구매 고객수\n",
        "cop_month['apfr']=cop_month['vst']/cop_month['cust']\n",
        "cop_month[:10]"
      ],
      "metadata": {
        "id": "qEd8JCVGA-Te"
      },
      "execution_count": null,
      "outputs": []
    },
    {
      "cell_type": "code",
      "source": [
        "### 고객 가치 (Customer value) ###\n",
        "# 고객 별 평균 구매 액수[mean(buy_am)] * 평균 구매 빈도율[apfr]\n",
        "# 모든 고객에 대해 계산하고, 평균치 내기\n",
        "val_df=tot.groupby(['cust','cop','month']).agg({'buy_ct':'sum','buying':'mean','vst':'sum'}).reset_index()\n",
        "val_df\n",
        "val=pd.merge(val_df,cop_month[['cop','month','apfr']],on=['cop','month'],how='left')\n",
        "val['cv']=val['buying']*val['apfr']\n",
        "val"
      ],
      "metadata": {
        "id": "_74oLSlLA-RQ"
      },
      "execution_count": null,
      "outputs": []
    },
    {
      "cell_type": "code",
      "source": [
        "### 평균 고객 수명 (Average customer lifespan ) ###\n",
        "# 1/ 고객 이탈률\n",
        "# https://www.quora.com/Why-is-1-churn-rate-average-customer-lifetime\n",
        "\n",
        "c_df=tot.groupby(['cop','month']).agg({'cust':lambda x:x.unique()}).reset_index()\n",
        "c_sh=c_df.copy()\n",
        "c_df['lag_cust']=c_sh[['cop','cust']].groupby('cop').shift(1)\n",
        "\n",
        "lifespan=[]\n",
        "cnt=0\n",
        "for c,lg in zip(c_df['cust'],c_df['lag_cust']):\n",
        "  if cnt%12==0:\n",
        "    lifespan.append(np.nan)\n",
        "  else:\n",
        "    churn=1-len(set(lg).intersection(set(c)))/len(set(lg))\n",
        "    lifespan.append(1/churn)\n",
        "  cnt+=1\n",
        "\n",
        "c_df['lifespan']=lifespan\n",
        "c_df[:5]"
      ],
      "metadata": {
        "id": "i2EpKglzA-Oe"
      },
      "execution_count": null,
      "outputs": []
    },
    {
      "cell_type": "code",
      "source": [
        "### 고객 생애가치 (CLTV) ###\n",
        "# customer value * average customer lifespan\n",
        "fin_df=pd.merge(val,c_df[['cop','month','lifespan']],on=['cop','month'],how='left')\n",
        "fin_df['cltv']=fin_df['cv']*fin_df['lifespan']\n",
        "fin_df"
      ],
      "metadata": {
        "id": "FKyxhtEzA-M0"
      },
      "execution_count": null,
      "outputs": []
    },
    {
      "cell_type": "code",
      "source": [
        "# train\n",
        "final=pd.merge(tot,fin_df[['cust','cop','month','cltv']],on=['cust','cop','month'],how='left')\n",
        "final[:5]"
      ],
      "metadata": {
        "id": "IT2mWSWyA-J-"
      },
      "execution_count": null,
      "outputs": []
    },
    {
      "cell_type": "code",
      "source": [
        "del final['vst']"
      ],
      "metadata": {
        "id": "lSkMx8P6DEJg"
      },
      "execution_count": null,
      "outputs": []
    },
    {
      "cell_type": "code",
      "source": [
        "final.shape"
      ],
      "metadata": {
        "id": "EMQPg9rqIaQE"
      },
      "execution_count": null,
      "outputs": []
    },
    {
      "cell_type": "code",
      "source": [
        "final.isna().sum()"
      ],
      "metadata": {
        "id": "KR5gg1oQFEuo"
      },
      "execution_count": null,
      "outputs": []
    },
    {
      "cell_type": "code",
      "source": [
        "list(final[:3826823]['cust'])==list(train2['cust'])"
      ],
      "metadata": {
        "id": "gN3mca6JJnic"
      },
      "execution_count": null,
      "outputs": []
    },
    {
      "cell_type": "code",
      "source": [
        "list(final[:3826823]['month'])==list(train2['month'])"
      ],
      "metadata": {
        "id": "MCtsHM-sJx_x"
      },
      "execution_count": null,
      "outputs": []
    },
    {
      "cell_type": "code",
      "source": [
        "list(final[:3826823]['cop'])==list(train2['cop'])"
      ],
      "metadata": {
        "id": "iLX827q8J3-N"
      },
      "execution_count": null,
      "outputs": []
    },
    {
      "cell_type": "code",
      "source": [
        "list(final[3826823:]['cust'])==list(test2['cust'])"
      ],
      "metadata": {
        "id": "gsHuXa7LJ36c"
      },
      "execution_count": null,
      "outputs": []
    },
    {
      "cell_type": "code",
      "source": [
        "list(final[3826823:]['month'])==list(test2['month'])"
      ],
      "metadata": {
        "id": "ztRPL9R0KBsL"
      },
      "execution_count": null,
      "outputs": []
    },
    {
      "cell_type": "code",
      "source": [
        "list(final[3826823:]['cop'])==list(test2['cop'])"
      ],
      "metadata": {
        "id": "fnMbe63IKBhg"
      },
      "execution_count": null,
      "outputs": []
    },
    {
      "cell_type": "code",
      "source": [
        "train2.isna().sum()"
      ],
      "metadata": {
        "id": "C2vBeoxeKApI"
      },
      "execution_count": null,
      "outputs": []
    },
    {
      "cell_type": "code",
      "source": [
        "train2.shape"
      ],
      "metadata": {
        "id": "37XSxTBkKAgW"
      },
      "execution_count": null,
      "outputs": []
    },
    {
      "cell_type": "code",
      "source": [
        "train2['cltv']=list(final[:3826823]['cltv'])\n",
        "train2.shape"
      ],
      "metadata": {
        "id": "crQ8Yn_1KAdw"
      },
      "execution_count": null,
      "outputs": []
    },
    {
      "cell_type": "code",
      "source": [
        "train2.isna().sum()"
      ],
      "metadata": {
        "id": "nxkyXzGeKPwm"
      },
      "execution_count": null,
      "outputs": []
    },
    {
      "cell_type": "code",
      "source": [
        "print(final[:3826823]['cltv'].isna().sum())\n",
        "print(final[3826823:]['cltv'].isna().sum())"
      ],
      "metadata": {
        "id": "wh7cXQZZKPsf"
      },
      "execution_count": null,
      "outputs": []
    },
    {
      "cell_type": "code",
      "source": [
        "test2['cltv']=list(final[3826823:]['cltv'])\n",
        "test2.shape"
      ],
      "metadata": {
        "id": "UCX2HTEmJxTr"
      },
      "execution_count": null,
      "outputs": []
    },
    {
      "cell_type": "code",
      "source": [
        "test2.isna().sum()"
      ],
      "metadata": {
        "id": "Mrvnkl_iKekq"
      },
      "execution_count": null,
      "outputs": []
    },
    {
      "cell_type": "code",
      "source": [
        "#train2.to_csv('train_fe.csv',index=False)\n",
        "#test2.to_csv('test_fe.csv',index=False)"
      ],
      "metadata": {
        "id": "NpZy9KfHKehZ"
      },
      "execution_count": null,
      "outputs": []
    },
    {
      "cell_type": "code",
      "source": [
        "#tr=pd.read_csv('train_fe.csv')\n",
        "tr=train2.copy()\n",
        "print(tr.shape)\n",
        "print(tr.isna().sum())"
      ],
      "metadata": {
        "id": "Cs3gZFi3KeeB"
      },
      "execution_count": null,
      "outputs": []
    },
    {
      "cell_type": "code",
      "source": [
        "#ts=pd.read_csv('test_fe.csv')\n",
        "ts=test2.copy()\n",
        "print(ts.shape)\n",
        "print(ts.isna().sum())"
      ],
      "metadata": {
        "id": "jsppigKcKea6"
      },
      "execution_count": null,
      "outputs": []
    },
    {
      "cell_type": "code",
      "source": [],
      "metadata": {
        "id": "0rSsjEqRLYZU"
      },
      "execution_count": null,
      "outputs": []
    },
    {
      "cell_type": "markdown",
      "source": [
        "# NA value\n",
        "- 제거"
      ],
      "metadata": {
        "id": "wdrf7plPO4z_"
      }
    },
    {
      "cell_type": "code",
      "source": [
        "train_df=tr[~tr['buy_mnt'].isna()].reset_index(drop=True)\n",
        "train_df.shape"
      ],
      "metadata": {
        "id": "hePFJkbiLYWM"
      },
      "execution_count": null,
      "outputs": []
    },
    {
      "cell_type": "code",
      "source": [
        "train=train_df.copy()"
      ],
      "metadata": {
        "id": "khWlI1L8LYS0"
      },
      "execution_count": null,
      "outputs": []
    },
    {
      "cell_type": "markdown",
      "source": [
        "# Remove col\n",
        "- 제거해야할 컬럼: fin_dt, de_year"
      ],
      "metadata": {
        "id": "EoVNBKCzPOqT"
      }
    },
    {
      "cell_type": "code",
      "source": [
        "train_df=train[['cust', 'chnl_dv', 'de_hr', 'buy_am', 'buy_ct', 'time_diff',\n",
        "        'de_month', 'de_day', 'ma_fem_dv', 'ages', 'zon_hlv_resid',\n",
        "       'zon_hlv', 'cop', 'month_diff', 'cop_diff', 'cm_diff', 'zon_hlv_diff',\n",
        "       'weekend', 'buy_level', 'buy_mnt', 'income_mnt', 'cltv']]\n",
        "\n",
        "test_df=ts[['cust', 'chnl_dv', 'de_hr', 'buy_am', 'buy_ct', 'time_diff',\n",
        "        'de_month', 'de_day', 'ma_fem_dv', 'ages', 'zon_hlv_resid',\n",
        "       'zon_hlv', 'cop', 'month_diff', 'cop_diff', 'cm_diff', 'zon_hlv_diff',\n",
        "       'weekend', 'buy_level', 'buy_mnt', 'income_mnt', 'cltv']]"
      ],
      "metadata": {
        "id": "x9k00m7DLXct"
      },
      "execution_count": null,
      "outputs": []
    },
    {
      "cell_type": "markdown",
      "source": [
        "## categorical var\n",
        "- cust : 1번 ~ n번까지 매핑 (비복원 추출)\n",
        "- ma_fem_dv : 여성, 남성 -> 원핫인코딩\n",
        "- ages : '대' 제거후 int 형으로\n",
        "- zon_hlv_resid : one-hot\n",
        "- zon_hlv : one-hot\n",
        "- cop: one-hot \n",
        "- chnl_dv: one-hot"
      ],
      "metadata": {
        "id": "7zmErHuBPf1Q"
      }
    },
    {
      "cell_type": "code",
      "source": [
        "# ma_fem_dv\n",
        "\n",
        "# train\n",
        "train_df.rename(columns={'ma_fem_dv':'gender'},inplace=True)\n",
        "train_df['gender']=train_df['gender'].map({'여성':'female','남성':'male'})\n",
        "\n",
        "# test\n",
        "test_df.rename(columns={'ma_fem_dv':'gender'},inplace=True)\n",
        "test_df['gender']=test_df['gender'].map({'여성':'female','남성':'male'})\n"
      ],
      "metadata": {
        "id": "Kz92PFxxPZDa"
      },
      "execution_count": null,
      "outputs": []
    },
    {
      "cell_type": "code",
      "source": [
        "# ages\n",
        "train_df['ages']=train_df['ages'].apply(lambda x:str(x)[:-1])\n",
        "test_df['ages']=test_df['ages'].apply(lambda x:str(x)[:-1])"
      ],
      "metadata": {
        "id": "-2yxLdmbPZBb"
      },
      "execution_count": null,
      "outputs": []
    },
    {
      "cell_type": "code",
      "source": [
        "train_df['ages']=train_df['ages'].astype(int)\n",
        "test_df['ages']=test_df['ages'].astype(int)"
      ],
      "metadata": {
        "id": "5dXmKfjoPYk2"
      },
      "execution_count": null,
      "outputs": []
    },
    {
      "cell_type": "code",
      "source": [
        "# channel\n",
        "ch_dic={1:'offline',2:'online'}\n",
        "train_df['channel']=train_df['channel'].map(ch_dic)\n",
        "test_df['channel']=test_df['channel'].map(ch_dic)"
      ],
      "metadata": {
        "id": "Bc01ClSaP_Ph"
      },
      "execution_count": null,
      "outputs": []
    },
    {
      "cell_type": "code",
      "source": [
        "# one-hot encoding \n",
        "df_tr=pd.get_dummies(train_df, columns=['gender','cop','channel'])\n",
        "df_ts=pd.get_dummies(test_df, columns=['gender','cop','channel'])"
      ],
      "metadata": {
        "id": "fys5b2ZkP_NA"
      },
      "execution_count": null,
      "outputs": []
    },
    {
      "cell_type": "code",
      "source": [
        "# cust\n",
        "n=len(df_tr['cust'].unique())\n",
        "np.random.seed(2022) # Randomness 추가함 -> random state 다르게 하며 모델 비교!!!\n",
        "rn_lst=np.random.choice(n,n,replace=False)\n",
        "\n",
        "cust_dic={v:0 for v in df_tr['cust'].unique()}\n",
        "for i,c in enumerate(cust_dic):\n",
        "  cust_dic[c]=rn_lst[i]\n",
        "\n",
        "df_tr['cust']=df_tr['cust'].map(cust_dic)\n",
        "df_ts['cust']=df_ts['cust'].map(cust_dic)"
      ],
      "metadata": {
        "id": "QzdN4Ec9P_Ka"
      },
      "execution_count": null,
      "outputs": []
    },
    {
      "cell_type": "code",
      "source": [
        "# zon_hlv\n",
        "df_tr2=pd.get_dummies(df_tr,columns=['loc','loc_resid'])\n",
        "df_ts2=pd.get_dummies(df_ts,columns=['loc','loc_resid'])"
      ],
      "metadata": {
        "id": "LLsey60pP_HJ"
      },
      "execution_count": null,
      "outputs": []
    },
    {
      "cell_type": "code",
      "source": [
        "df_tr2.to_csv('train_fin_time.csv',index=False)\n",
        "df_ts2.to_csv('test_fin_time.csv',index=False)"
      ],
      "metadata": {
        "id": "Py_xUDRGP-hW"
      },
      "execution_count": null,
      "outputs": []
    },
    {
      "cell_type": "code",
      "source": [],
      "metadata": {
        "id": "kDI5RTP8P-fQ"
      },
      "execution_count": null,
      "outputs": []
    }
  ]
}