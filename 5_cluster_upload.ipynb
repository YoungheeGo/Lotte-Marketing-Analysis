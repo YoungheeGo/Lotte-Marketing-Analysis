{
  "nbformat": 4,
  "nbformat_minor": 0,
  "metadata": {
    "colab": {
      "provenance": [],
      "collapsed_sections": [],
      "machine_shape": "hm",
      "authorship_tag": "ABX9TyP5VCwzSmCo/WEB1/lsEjAN"
    },
    "kernelspec": {
      "name": "python3",
      "display_name": "Python 3"
    },
    "language_info": {
      "name": "python"
    },
    "accelerator": "GPU",
    "gpuClass": "standard"
  },
  "cells": [
    {
      "cell_type": "code",
      "source": [
        "from google.colab import drive\n",
        "drive.mount('/content/drive')"
      ],
      "metadata": {
        "id": "Xi-7HTLGfD8T"
      },
      "execution_count": null,
      "outputs": []
    },
    {
      "cell_type": "code",
      "source": [
        "ls"
      ],
      "metadata": {
        "id": "Nnw289EffHAO"
      },
      "execution_count": null,
      "outputs": []
    },
    {
      "cell_type": "code",
      "execution_count": null,
      "metadata": {
        "id": "yEI82JYDesRA"
      },
      "outputs": [],
      "source": [
        "import pandas as pd\n",
        "import numpy as np"
      ]
    },
    {
      "cell_type": "code",
      "source": [
        "# train=pd.read_csv('data/train_fin_.csv')\n",
        "# test=pd.read_csv('data/test_fin_.csv')\n",
        "# tot=pd.concat([train,test])\n",
        "# tot.to_csv('tot_fin_.csv')"
      ],
      "metadata": {
        "id": "7YtDP64uewo0"
      },
      "execution_count": null,
      "outputs": []
    },
    {
      "cell_type": "code",
      "source": [
        "#!pip install tslearn"
      ],
      "metadata": {
        "id": "Ftuv5u-lg2TY"
      },
      "execution_count": null,
      "outputs": []
    },
    {
      "cell_type": "code",
      "source": [
        "from sklearn.cluster import KMeans\n",
        "from sklearn.decomposition import PCA\n",
        "\n",
        "import matplotlib.pyplot as plt\n",
        "import seaborn as sns\n",
        "from sklearn import preprocessing\n",
        "import pickle"
      ],
      "metadata": {
        "id": "Zw7tV7XmewnD"
      },
      "execution_count": null,
      "outputs": []
    },
    {
      "cell_type": "code",
      "source": [
        "df=pd.read_csv('data/tot_fin_.csv')\n",
        "df.columns"
      ],
      "metadata": {
        "id": "S3-B3BvCm46n"
      },
      "execution_count": null,
      "outputs": []
    },
    {
      "cell_type": "code",
      "source": [
        "df1=df.groupby(['cust']).agg({'hour':'mean','buy_am':'sum','buy_ct':'sum','time_diff':'sum',\n",
        "                          'month':'mean', 'ages':'mean','month_diff':'mean',\n",
        "                          'cop_diff':'mean','cm_diff':'mean','loc_diff':'mean','weekend':'sum',\n",
        "                          'buy_level':'mean','lag_buy':'sum','lag_income':'sum','cltv':'sum', 'gender_female':'mean','gender_male':'mean',\n",
        "                          'cop_A':'sum','cop_B':'sum','cop_C':'sum','cop_D':'sum','cop_E':'sum','channel_offline':'sum','channel_online':'sum',\n",
        "                          'loc_Z05':'sum','loc_Z06':'sum', 'loc_Z07':'sum', 'loc_Z08':'sum', 'loc_Z09':'sum',\n",
        "       'loc_Z10':'sum', 'loc_Z11':'sum', 'loc_Z12':'sum', 'loc_Z13':'sum',\n",
        "       'loc_Z14':'sum', 'loc_Z15':'sum', 'loc_Z16':'sum', 'loc_Z17':'sum',\n",
        "       'loc_resid_Z01':'sum', 'loc_resid_Z02':'sum', 'loc_resid_Z03':'sum',\n",
        "       'loc_resid_Z04':'sum', 'loc_resid_Z05':'sum', 'loc_resid_Z06':'sum',\n",
        "       'loc_resid_Z07':'sum', 'loc_resid_Z08':'sum', 'loc_resid_Z09':'sum',\n",
        "       'loc_resid_Z10':'sum', 'loc_resid_Z11':'sum', 'loc_resid_Z12':'sum',\n",
        "       'loc_resid_Z13':'sum', 'loc_resid_Z14':'sum', 'loc_resid_Z15':'sum',\n",
        "       'loc_resid_Z16':'sum', 'loc_resid_Z17':'sum'\n",
        "                          })\n",
        "df1"
      ],
      "metadata": {
        "id": "BFaAdynLmPcZ"
      },
      "execution_count": null,
      "outputs": []
    },
    {
      "cell_type": "code",
      "source": [
        "#df=pd.read_csv('data/tot_fin_.csv')\n",
        "#df=df.set_index('cust').reset_index(drop=True)\n",
        "scaler=preprocessing.StandardScaler()\n",
        "df_sc=scaler.fit_transform(df1)\n",
        "df_sc.shape"
      ],
      "metadata": {
        "id": "wZO0C7gZewlC"
      },
      "execution_count": null,
      "outputs": []
    },
    {
      "cell_type": "code",
      "source": [
        "kmean= KMeans(3)\n",
        "kmean.fit(df_sc)\n",
        "labels=kmean.labels_"
      ],
      "metadata": {
        "id": "-TSmO4qIqhe-"
      },
      "execution_count": null,
      "outputs": []
    },
    {
      "cell_type": "code",
      "source": [
        "file_name='kmean.pkl'\n",
        "pickle.dump(kmean,open(file_name,'wb'))"
      ],
      "metadata": {
        "id": "jBd0gsrJRV21"
      },
      "execution_count": null,
      "outputs": []
    },
    {
      "cell_type": "code",
      "source": [
        "cluster=pd.concat([df1,pd.DataFrame({'cluster':labels})],axis=1)\n",
        "cluster.head()"
      ],
      "metadata": {
        "id": "XzTxhGmvqhUE"
      },
      "execution_count": null,
      "outputs": []
    },
    {
      "cell_type": "code",
      "source": [
        "dummy_var1=['loc_Z05', 'loc_Z06','loc_Z07', 'loc_Z08', 'loc_Z09', 'loc_Z10',\n",
        "            'loc_Z11', 'loc_Z12', 'loc_Z13', 'loc_Z14',\n",
        "            'loc_Z15', 'loc_Z16', 'loc_Z17']\n",
        "dummy_var2=['loc_resid_Z01','loc_resid_Z02', 'loc_resid_Z03', 'loc_resid_Z04',\n",
        "       'loc_resid_Z05', 'loc_resid_Z06', 'loc_resid_Z07',\n",
        "       'loc_resid_Z08', 'loc_resid_Z09', 'loc_resid_Z10',\n",
        "       'loc_resid_Z11', 'loc_resid_Z12', 'loc_resid_Z13',\n",
        "       'loc_resid_Z14', 'loc_resid_Z15', 'loc_resid_Z16',\n",
        "       'loc_resid_Z17'] \n",
        "dummy_var3=['cop_A', 'cop_B', 'cop_C', 'cop_D', 'cop_E']\n",
        "dummy_var4=['channel_offline', 'channel_online']\n",
        "\n",
        "cluster['loc']=cluster[dummy_var1].idxmax(axis=1).apply(lambda x:x[-3:])\n",
        "cluster=cluster.drop(dummy_var1,axis=1)\n",
        "print(cluster.shape)"
      ],
      "metadata": {
        "id": "0t9WWNmqR_cy"
      },
      "execution_count": null,
      "outputs": []
    },
    {
      "cell_type": "code",
      "source": [
        "cluster.columns"
      ],
      "metadata": {
        "id": "LFrXSFBWUwgB"
      },
      "execution_count": null,
      "outputs": []
    },
    {
      "cell_type": "code",
      "source": [
        "cluster['loc_resid']=cluster[dummy_var2].idxmax(axis=1)[-3:]\n",
        "cluster=cluster.drop(dummy_var2,axis=1)\n",
        "print(cluster.shape)"
      ],
      "metadata": {
        "id": "JJbnJOEPR_OJ"
      },
      "execution_count": null,
      "outputs": []
    },
    {
      "cell_type": "code",
      "source": [
        "cluster['cop']=cluster[dummy_var3].idxmax(axis=1).apply(lambda x:x[-1])\n",
        "cluster=cluster.drop(dummy_var3,axis=1)\n",
        "print(cluster.shape)"
      ],
      "metadata": {
        "id": "NW7aSme8U4a5"
      },
      "execution_count": null,
      "outputs": []
    },
    {
      "cell_type": "code",
      "source": [
        "cluster['channel']=cluster[dummy_var4].idxmax(axis=1)\n",
        "cluster=cluster.drop(dummy_var4,axis=1)\n",
        "print(cluster.shape)"
      ],
      "metadata": {
        "id": "9vXIZohvVVeJ"
      },
      "execution_count": null,
      "outputs": []
    },
    {
      "cell_type": "code",
      "source": [],
      "metadata": {
        "id": "cvT8kEc0VVag"
      },
      "execution_count": null,
      "outputs": []
    },
    {
      "cell_type": "code",
      "source": [
        "cluster.columns"
      ],
      "metadata": {
        "id": "sqvvbZ0F86We"
      },
      "execution_count": null,
      "outputs": []
    },
    {
      "cell_type": "code",
      "source": [
        "cluster['cluster'].value_counts()"
      ],
      "metadata": {
        "id": "v7FMRKTfq7rf"
      },
      "execution_count": null,
      "outputs": []
    },
    {
      "cell_type": "code",
      "source": [
        "c0=cluster[cluster['cluster']==0]\n",
        "c0"
      ],
      "metadata": {
        "id": "gEdMb8Z4q7o8"
      },
      "execution_count": null,
      "outputs": []
    },
    {
      "cell_type": "code",
      "source": [
        "sns.set(style='ticks',color_codes=True)\n",
        "g=sns.pairplot(c0)\n",
        "plt.show()"
      ],
      "metadata": {
        "id": "1e5db0PJq7Xz"
      },
      "execution_count": null,
      "outputs": []
    },
    {
      "cell_type": "code",
      "source": [
        "c1=cluster[cluster['cluster']==1]\n",
        "sns.set(style='ticks',color_codes=True)\n",
        "g=sns.pairplot(c1)\n",
        "plt.show()"
      ],
      "metadata": {
        "id": "zBFfARi6aTKd"
      },
      "execution_count": null,
      "outputs": []
    },
    {
      "cell_type": "code",
      "source": [
        "c2=cluster[cluster['cluster']==2]\n",
        "sns.set(style='ticks',color_codes=True)\n",
        "g=sns.pairplot(c2)\n",
        "plt.show()"
      ],
      "metadata": {
        "id": "graDPvNcaXa7"
      },
      "execution_count": null,
      "outputs": []
    },
    {
      "cell_type": "code",
      "source": [
        "plt.hist(np.log(c0['cltv']))"
      ],
      "metadata": {
        "id": "Fe2NbWwvh_D9"
      },
      "execution_count": null,
      "outputs": []
    },
    {
      "cell_type": "code",
      "source": [
        "c0['cop'].value_counts()"
      ],
      "metadata": {
        "id": "9nCuk2NeYZYn"
      },
      "execution_count": null,
      "outputs": []
    },
    {
      "cell_type": "code",
      "source": [
        "c1=cluster[cluster['cluster']==1]\n",
        "plt.hist(np.log(c1['cltv']))"
      ],
      "metadata": {
        "id": "Xf8finfTh_BM"
      },
      "execution_count": null,
      "outputs": []
    },
    {
      "cell_type": "code",
      "source": [
        "c2=cluster[cluster['cluster']==2]\n",
        "plt.hist(np.log(c2['cltv']))"
      ],
      "metadata": {
        "id": "u3qqnbAMeweU"
      },
      "execution_count": null,
      "outputs": []
    },
    {
      "cell_type": "code",
      "source": [
        "c2.columns"
      ],
      "metadata": {
        "id": "lVJyjkp6ewbb"
      },
      "execution_count": null,
      "outputs": []
    },
    {
      "cell_type": "code",
      "source": [
        "plt.hist(np.log(c0['lag_buy']))"
      ],
      "metadata": {
        "id": "P9jcLdT8ewWy"
      },
      "execution_count": null,
      "outputs": []
    },
    {
      "cell_type": "code",
      "source": [
        "plt.hist(np.log(c1['lag_buy']))"
      ],
      "metadata": {
        "id": "P5V_2blaewUw"
      },
      "execution_count": null,
      "outputs": []
    },
    {
      "cell_type": "code",
      "source": [
        "plt.hist(np.log(c2['lag_buy']))"
      ],
      "metadata": {
        "id": "vREgfDWMewRy"
      },
      "execution_count": null,
      "outputs": []
    },
    {
      "cell_type": "code",
      "source": [
        "plt.scatter(c0['hour'],c0['buy_am'])"
      ],
      "metadata": {
        "id": "Yabq6GQ7ewPt"
      },
      "execution_count": null,
      "outputs": []
    },
    {
      "cell_type": "code",
      "source": [
        "plt.scatter(c1['hour'],c1['buy_am'])"
      ],
      "metadata": {
        "id": "ZjqcrE8newOS"
      },
      "execution_count": null,
      "outputs": []
    },
    {
      "cell_type": "code",
      "source": [
        "plt.scatter(c2['hour'],c2['buy_am'])"
      ],
      "metadata": {
        "id": "RrFKzLi6ewMx"
      },
      "execution_count": null,
      "outputs": []
    },
    {
      "cell_type": "code",
      "source": [
        "plt.figure(0)\n",
        "plt.hist(c0['buy_level'])\n",
        "plt.figure(1)\n",
        "plt.hist(c1['buy_level'])\n",
        "plt.figure(2)\n",
        "plt.hist(c2['buy_level'])\n",
        "#print(c1['buy_level'].value_counts())\n",
        "#print(c2['buy_level'].value_counts())"
      ],
      "metadata": {
        "id": "Zu075fT-ewLd"
      },
      "execution_count": null,
      "outputs": []
    },
    {
      "cell_type": "code",
      "source": [
        "plt.figure(0)\n",
        "plt.hist(np.log(c0['lag_income']))\n",
        "plt.figure(1)\n",
        "plt.hist(np.log(c1['lag_income']))\n",
        "plt.figure(2)\n",
        "plt.hist(np.log(c2['lag_income']))"
      ],
      "metadata": {
        "id": "K_gqed8newGu"
      },
      "execution_count": null,
      "outputs": []
    },
    {
      "cell_type": "code",
      "source": [
        "plt.figure(0)\n",
        "plt.hist(np.log(c0['lag_buy']))\n",
        "plt.figure(1)\n",
        "plt.hist(np.log(c1['lag_buy']))\n",
        "plt.figure(2)\n",
        "plt.hist(np.log(c2['lag_buy']))"
      ],
      "metadata": {
        "id": "UKDQam1mcfjQ"
      },
      "execution_count": null,
      "outputs": []
    },
    {
      "cell_type": "code",
      "source": [
        "plt.figure(0)\n",
        "plt.hist(c0['month'])\n",
        "plt.figure(1)\n",
        "plt.hist(c1['month'])\n",
        "plt.figure(2)\n",
        "plt.hist(c2['month'])\n",
        "# 클러스터에 관계 x"
      ],
      "metadata": {
        "id": "j9AHKtincfUp"
      },
      "execution_count": null,
      "outputs": []
    },
    {
      "cell_type": "code",
      "source": [
        "plt.figure(0)\n",
        "plt.scatter(c0['month'],c0['buy_am'])\n",
        "plt.figure(1)\n",
        "plt.scatter(c1['month'],c1['buy_am'])\n",
        "plt.figure(2)\n",
        "plt.scatter(c2['month'],c2['buy_am'])"
      ],
      "metadata": {
        "id": "zcquyu2WcePe"
      },
      "execution_count": null,
      "outputs": []
    },
    {
      "cell_type": "code",
      "source": [],
      "metadata": {
        "id": "rLK7Ks3Xcd7d"
      },
      "execution_count": null,
      "outputs": []
    },
    {
      "cell_type": "code",
      "source": [],
      "metadata": {
        "id": "CPmXetYjcd4f"
      },
      "execution_count": null,
      "outputs": []
    },
    {
      "cell_type": "code",
      "source": [],
      "metadata": {
        "id": "Ciyq3QW1cdlH"
      },
      "execution_count": null,
      "outputs": []
    },
    {
      "cell_type": "code",
      "source": [],
      "metadata": {
        "id": "tyO710GtcdI4"
      },
      "execution_count": null,
      "outputs": []
    }
  ]
}