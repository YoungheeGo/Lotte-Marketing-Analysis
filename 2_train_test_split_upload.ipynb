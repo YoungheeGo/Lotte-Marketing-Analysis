{
  "nbformat": 4,
  "nbformat_minor": 0,
  "metadata": {
    "colab": {
      "provenance": [],
      "collapsed_sections": [],
      "toc_visible": true,
      "authorship_tag": "ABX9TyN5mkd0LbNhDEbSafUsHvUa"
    },
    "kernelspec": {
      "name": "python3",
      "display_name": "Python 3"
    },
    "language_info": {
      "name": "python"
    }
  },
  "cells": [
    {
      "cell_type": "code",
      "execution_count": null,
      "metadata": {
        "id": "zHYCe2ZddqOe"
      },
      "outputs": [],
      "source": [
        "from google.colab import drive\n",
        "drive.mount('/content/drive')"
      ]
    },
    {
      "cell_type": "code",
      "source": [
        "ls"
      ],
      "metadata": {
        "id": "RllHRATreUT6"
      },
      "execution_count": null,
      "outputs": []
    },
    {
      "cell_type": "code",
      "source": [
        "import pandas as pd\n",
        "import numpy as np\n",
        "import matplotlib.pyplot as plt\n",
        "import seaborn as sns\n",
        "from datetime import date\n",
        "import math\n",
        "from tqdm import tqdm_notebook as tqdm\n",
        "from PIL import Image\n",
        "%matplotlib inline"
      ],
      "metadata": {
        "id": "fiROFCC9ebqq"
      },
      "execution_count": null,
      "outputs": []
    },
    {
      "cell_type": "code",
      "source": [],
      "metadata": {
        "id": "s3w_TCTA7djc"
      },
      "execution_count": null,
      "outputs": []
    },
    {
      "cell_type": "markdown",
      "source": [
        "# Load & Preprocessing"
      ],
      "metadata": {
        "id": "pi0NjRnThZTA"
      }
    },
    {
      "cell_type": "code",
      "source": [
        "df=pd.read_csv('sales_merge.csv')"
      ],
      "metadata": {
        "id": "bz-Uztyy5Zpz"
      },
      "execution_count": null,
      "outputs": []
    },
    {
      "cell_type": "code",
      "source": [
        "df.head()"
      ],
      "metadata": {
        "id": "Gqz0ijA2gXbk"
      },
      "execution_count": null,
      "outputs": []
    },
    {
      "cell_type": "code",
      "source": [
        "df.dtypes"
      ],
      "metadata": {
        "id": "-b2F1AOskOYi"
      },
      "execution_count": null,
      "outputs": []
    },
    {
      "cell_type": "code",
      "source": [
        "df.head()"
      ],
      "metadata": {
        "id": "L0wc93VLkdti"
      },
      "execution_count": null,
      "outputs": []
    },
    {
      "cell_type": "markdown",
      "source": [],
      "metadata": {
        "id": "znu-egsFCWZF"
      }
    },
    {
      "cell_type": "markdown",
      "source": [
        "## Preprocessing"
      ],
      "metadata": {
        "id": "H-fSQmGfl3iT"
      }
    },
    {
      "cell_type": "code",
      "source": [
        "rct_no=list(df['rct'])\n",
        "del df['rct']\n",
        "# del df['chnl_dv']\n",
        "df['cor']=df['cor_c'].apply(lambda x:str(x)[0])\n",
        "del df['cor_c']\n",
        "del df['br']\n",
        "del df['loc']"
      ],
      "metadata": {
        "id": "MlDzaPOSpg74"
      },
      "execution_count": null,
      "outputs": []
    },
    {
      "cell_type": "code",
      "source": [
        "df.head()"
      ],
      "metadata": {
        "id": "foSgF-ANqZB8"
      },
      "execution_count": null,
      "outputs": []
    },
    {
      "cell_type": "code",
      "source": [
        "df['year'].unique()"
      ],
      "metadata": {
        "id": "BVWOloFW7U7t"
      },
      "execution_count": null,
      "outputs": []
    },
    {
      "cell_type": "code",
      "source": [
        "df=df[df['year']==2021].reset_index(drop=True)\n",
        "df.head()\n",
        "df.to_csv('sales_merge_fin.csv',index=False)"
      ],
      "metadata": {
        "id": "a2HUf8Xm7dWS"
      },
      "execution_count": null,
      "outputs": []
    },
    {
      "cell_type": "markdown",
      "source": [
        "## NA values"
      ],
      "metadata": {
        "id": "9MXrgkCnCO33"
      }
    },
    {
      "cell_type": "code",
      "source": [
        "data=df.copy()\n",
        "data.isna().sum()"
      ],
      "metadata": {
        "id": "XzAqvrnECOis"
      },
      "execution_count": null,
      "outputs": []
    },
    {
      "cell_type": "code",
      "source": [
        "df_=data[~data['loc'].isna()].reset_index(drop=True)\n",
        "df_.head()"
      ],
      "metadata": {
        "id": "I65PiRQ7COgF"
      },
      "execution_count": null,
      "outputs": []
    },
    {
      "cell_type": "code",
      "source": [
        "df_.isna().sum()"
      ],
      "metadata": {
        "id": "WsxKkT_sCOck"
      },
      "execution_count": null,
      "outputs": []
    },
    {
      "cell_type": "code",
      "source": [
        "df_.shape"
      ],
      "metadata": {
        "id": "-B7SsqIsCOY5"
      },
      "execution_count": null,
      "outputs": []
    },
    {
      "cell_type": "code",
      "source": [],
      "metadata": {
        "id": "Ni8hckMICOUr"
      },
      "execution_count": null,
      "outputs": []
    },
    {
      "cell_type": "markdown",
      "source": [
        "# train-test-split\n",
        "- 시계열 데이터이기 때문에 각 고객 별 마지막으로 관측된 달을 test data로 할당함"
      ],
      "metadata": {
        "id": "RXjDAJf07152"
      }
    },
    {
      "cell_type": "code",
      "source": [
        "df1=df_.sort_values(['cust','month']).reset_index(drop=True)\n",
        "df1.head()"
      ],
      "metadata": {
        "id": "CsxIiAAF735O"
      },
      "execution_count": null,
      "outputs": []
    },
    {
      "cell_type": "code",
      "source": [
        "df1.shape"
      ],
      "metadata": {
        "id": "J6E_8d3RC8Ta"
      },
      "execution_count": null,
      "outputs": []
    },
    {
      "cell_type": "code",
      "source": [
        "cust_mon=df1.groupby(['cust','month'])['hour'].count()\n",
        "cust_mon"
      ],
      "metadata": {
        "id": "vu6kUz0-74oB"
      },
      "execution_count": null,
      "outputs": []
    },
    {
      "cell_type": "code",
      "source": [
        "cust_lst=sorted(df1['cust'].unique())\n",
        "last_month=[cust_mon[i].index.max() for i in cust_lst]\n",
        "last_month[:5]"
      ],
      "metadata": {
        "id": "RuQ4aJlX791C"
      },
      "execution_count": null,
      "outputs": []
    },
    {
      "cell_type": "code",
      "source": [
        "print(len(last_month))\n",
        "print(len(cust_lst))"
      ],
      "metadata": {
        "id": "UQJn1vDP79ya"
      },
      "execution_count": null,
      "outputs": []
    },
    {
      "cell_type": "code",
      "source": [
        "cust_mon"
      ],
      "metadata": {
        "id": "lthu9_xUFvrb"
      },
      "execution_count": null,
      "outputs": []
    },
    {
      "cell_type": "code",
      "source": [
        "obs_cust=[] # 고객이 한번 관측된 경우는 test에 추가하지 않는다.\n",
        "# 아마 train에서도 제거할 듯\n",
        "for i in cust_lst:\n",
        "  if len(cust_mon[i])==1:    \n",
        "    obs_cust.append(i)\n",
        "obs_cust[:10]"
      ],
      "metadata": {
        "id": "AK-X9gYgFRZk"
      },
      "execution_count": null,
      "outputs": []
    },
    {
      "cell_type": "code",
      "source": [
        "len(obs_cust)"
      ],
      "metadata": {
        "id": "LyzLTlqDGQ5J"
      },
      "execution_count": null,
      "outputs": []
    },
    {
      "cell_type": "code",
      "source": [
        "cust_lst_=[]\n",
        "last_month_=[]\n",
        "for c,m in zip(cust_lst,last_month):\n",
        "  if c in obs_cust:\n",
        "    pass\n",
        "  else:\n",
        "    cust_lst_.append(c)\n",
        "    last_month_.append(m)"
      ],
      "metadata": {
        "id": "6oJSZVl2GggQ"
      },
      "execution_count": null,
      "outputs": []
    },
    {
      "cell_type": "code",
      "source": [
        "print(len(cust_lst_))\n",
        "print(len(last_month_))"
      ],
      "metadata": {
        "id": "b9DTz4qbHsnB"
      },
      "execution_count": null,
      "outputs": []
    },
    {
      "cell_type": "code",
      "source": [
        "29309-2439"
      ],
      "metadata": {
        "id": "Cnfv7nF3GQ2N"
      },
      "execution_count": null,
      "outputs": []
    },
    {
      "cell_type": "code",
      "source": [],
      "metadata": {
        "id": "NcKdfnwCGQzT"
      },
      "execution_count": null,
      "outputs": []
    },
    {
      "cell_type": "code",
      "source": [
        "df1[df1['cust']=='M000034966'] # 43~51"
      ],
      "metadata": {
        "id": "A44cO6rkGQxQ"
      },
      "execution_count": null,
      "outputs": []
    },
    {
      "cell_type": "code",
      "source": [
        "tmp=df1[['cust','month']]\n",
        "mdic={}\n",
        "for c,m in zip(cust_lst_,last_month_):\n",
        "  mdic[c]=m\n",
        "print(len(mdic))\n",
        "\n",
        "\n",
        "test_indx=[]\n",
        "for c in tqdm(mdic,desc='tqdm'):\n",
        "  indx=tmp[(tmp['cust']==c) & (tmp['month']==mdic[c])].index\n",
        "  test_indx.extend(indx)"
      ],
      "metadata": {
        "id": "WkKDPnGiNVBK"
      },
      "execution_count": null,
      "outputs": []
    },
    {
      "cell_type": "code",
      "source": [
        "test_indx"
      ],
      "metadata": {
        "id": "d6a0HMCpMlYl"
      },
      "execution_count": null,
      "outputs": []
    },
    {
      "cell_type": "code",
      "source": [
        "test_indx[:10]"
      ],
      "metadata": {
        "id": "KGSEovF28p4L"
      },
      "execution_count": null,
      "outputs": []
    },
    {
      "cell_type": "code",
      "source": [
        "print(len(test_indx))"
      ],
      "metadata": {
        "id": "m9bKn0628p1D"
      },
      "execution_count": null,
      "outputs": []
    },
    {
      "cell_type": "code",
      "source": [
        "train_indx=set(df1.index)-set(test_indx)\n",
        "len(train_indx)"
      ],
      "metadata": {
        "id": "Yy49s9mx8pyY"
      },
      "execution_count": null,
      "outputs": []
    },
    {
      "cell_type": "code",
      "source": [
        "df1.shape[0]"
      ],
      "metadata": {
        "id": "bDbTYRDD79qT"
      },
      "execution_count": null,
      "outputs": []
    },
    {
      "cell_type": "code",
      "source": [
        "len(train_indx)+len(test_indx)"
      ],
      "metadata": {
        "id": "zY7jJvhi79nT"
      },
      "execution_count": null,
      "outputs": []
    },
    {
      "cell_type": "code",
      "source": [
        "train_df=df1.iloc[list(train_indx)]\n",
        "train_df"
      ],
      "metadata": {
        "id": "L7q604wX79k7"
      },
      "execution_count": null,
      "outputs": []
    },
    {
      "cell_type": "code",
      "source": [
        "train_df.to_csv('train.csv',index=False)"
      ],
      "metadata": {
        "id": "r1H-hWkM74Tj"
      },
      "execution_count": null,
      "outputs": []
    },
    {
      "cell_type": "code",
      "source": [
        "test_df=df1.iloc[list(test_indx)]\n",
        "test_df"
      ],
      "metadata": {
        "id": "e8fZ170v74BX"
      },
      "execution_count": null,
      "outputs": []
    },
    {
      "cell_type": "code",
      "source": [
        "test_df.to_csv('test.csv',index=False)"
      ],
      "metadata": {
        "id": "wdhAe41p9Bye"
      },
      "execution_count": null,
      "outputs": []
    },
    {
      "cell_type": "code",
      "source": [],
      "metadata": {
        "id": "fh1nItxS9Bvs"
      },
      "execution_count": null,
      "outputs": []
    },
    {
      "cell_type": "code",
      "source": [],
      "metadata": {
        "id": "W6PLpLsA9Bs9"
      },
      "execution_count": null,
      "outputs": []
    },
    {
      "cell_type": "code",
      "source": [],
      "metadata": {
        "id": "iRhz7_SI9BpG"
      },
      "execution_count": null,
      "outputs": []
    },
    {
      "cell_type": "code",
      "source": [],
      "metadata": {
        "id": "4IcJgKKxDi6K"
      },
      "execution_count": null,
      "outputs": []
    },
    {
      "cell_type": "code",
      "source": [],
      "metadata": {
        "id": "5eEdMi7HDi05"
      },
      "execution_count": null,
      "outputs": []
    },
    {
      "cell_type": "code",
      "source": [],
      "metadata": {
        "id": "-SWwf-us9Bme"
      },
      "execution_count": null,
      "outputs": []
    },
    {
      "cell_type": "code",
      "source": [],
      "metadata": {
        "id": "QNs0C5Sn739O"
      },
      "execution_count": null,
      "outputs": []
    }
  ]
}